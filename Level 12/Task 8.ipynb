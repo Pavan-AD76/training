{
 "cells": [
  {
   "cell_type": "markdown",
   "id": "7852778b",
   "metadata": {},
   "source": [
    "# Connecting to MySQL from Python Pandas"
   ]
  },
  {
   "cell_type": "code",
   "execution_count": 1,
   "id": "21860c88",
   "metadata": {},
   "outputs": [],
   "source": [
    "import mysql.connector\n",
    "import pandas as pd\n",
    "\n",
    "conn = mysql.connector.connect( host=\"localhost\", user=\"root\", password=\"Pavan@143\", database=\"training\")"
   ]
  },
  {
   "cell_type": "markdown",
   "id": "cdedee20",
   "metadata": {},
   "source": [
    "Fetching all orders"
   ]
  },
  {
   "cell_type": "code",
   "execution_count": 5,
   "id": "f5ba68e1",
   "metadata": {},
   "outputs": [
    {
     "name": "stdout",
     "output_type": "stream",
     "text": [
      "Raw orders data:\n",
      "    order_id  order_date customer_id\n",
      "0       101  2023-01-01          C1\n",
      "1       102  2023-01-02          C2\n"
     ]
    },
    {
     "name": "stderr",
     "output_type": "stream",
     "text": [
      "C:\\Users\\hp\\AppData\\Local\\Temp\\ipykernel_6584\\3536874999.py:1: UserWarning: pandas only supports SQLAlchemy connectable (engine/connection) or database string URI or sqlite3 DBAPI2 connection. Other DBAPI2 objects are not tested. Please consider using SQLAlchemy.\n",
      "  df_orders = pd.read_sql(\"SELECT * FROM orders\", conn)\n"
     ]
    }
   ],
   "source": [
    "df_orders = pd.read_sql(\"SELECT * FROM orders\", conn)\n",
    "print(\"Raw orders data:\\n\", df_orders.head())"
   ]
  },
  {
   "cell_type": "markdown",
   "id": "43fbd86d",
   "metadata": {},
   "source": [
    "Fetching orders with amount > 1000 and join with customer data"
   ]
  },
  {
   "cell_type": "code",
   "execution_count": 8,
   "id": "3675a869",
   "metadata": {},
   "outputs": [
    {
     "name": "stderr",
     "output_type": "stream",
     "text": [
      "C:\\Users\\hp\\AppData\\Local\\Temp\\ipykernel_6584\\294636846.py:15: UserWarning: pandas only supports SQLAlchemy connectable (engine/connection) or database string URI or sqlite3 DBAPI2 connection. Other DBAPI2 objects are not tested. Please consider using SQLAlchemy.\n",
      "  df_high_value = pd.read_sql(query, conn)\n"
     ]
    }
   ],
   "source": [
    "query = \"\"\"\n",
    "SELECT \n",
    "    o.order_id, \n",
    "    c.customer_name, \n",
    "    p.price, \n",
    "    o.order_date,\n",
    "    od.quantity,\n",
    "    (od.quantity * p.price) AS total_price\n",
    "FROM orders o\n",
    "JOIN customers c ON o.customer_id = c.customer_id\n",
    "JOIN order_details od ON o.order_id = od.order_id\n",
    "JOIN products p ON od.product_id = p.product_id\n",
    "WHERE (od.quantity * p.price) > 1000\n",
    "\"\"\"\n",
    "df_high_value = pd.read_sql(query, conn)\n"
   ]
  },
  {
   "cell_type": "markdown",
   "id": "f3921d04",
   "metadata": {},
   "source": [
    "Processing large datasets in chunks"
   ]
  },
  {
   "cell_type": "code",
   "execution_count": 10,
   "id": "78b8993a",
   "metadata": {},
   "outputs": [
    {
     "name": "stdout",
     "output_type": "stream",
     "text": [
      "Processing chunk with 2 rows...\n"
     ]
    },
    {
     "name": "stderr",
     "output_type": "stream",
     "text": [
      "C:\\Users\\hp\\AppData\\Local\\Temp\\ipykernel_6584\\1825513668.py:2: UserWarning: pandas only supports SQLAlchemy connectable (engine/connection) or database string URI or sqlite3 DBAPI2 connection. Other DBAPI2 objects are not tested. Please consider using SQLAlchemy.\n",
      "  chunks = pd.read_sql(\"SELECT * FROM orders\", conn, chunksize=chunk_size)\n"
     ]
    }
   ],
   "source": [
    "chunk_size = 1000\n",
    "chunks = pd.read_sql(\"SELECT * FROM orders\", conn, chunksize=chunk_size)\n",
    "for chunk in chunks:\n",
    "    print(f\"Processing chunk with {len(chunk)} rows...\")"
   ]
  },
  {
   "cell_type": "markdown",
   "id": "9114b52a",
   "metadata": {},
   "source": [
    "Specifying data types during loading"
   ]
  },
  {
   "cell_type": "code",
   "execution_count": 12,
   "id": "c268e3aa",
   "metadata": {},
   "outputs": [
    {
     "name": "stdout",
     "output_type": "stream",
     "text": [
      "Memory usage (optimized): 172\n"
     ]
    },
    {
     "name": "stderr",
     "output_type": "stream",
     "text": [
      "C:\\Users\\hp\\AppData\\Local\\Temp\\ipykernel_6584\\146140680.py:2: UserWarning: pandas only supports SQLAlchemy connectable (engine/connection) or database string URI or sqlite3 DBAPI2 connection. Other DBAPI2 objects are not tested. Please consider using SQLAlchemy.\n",
      "  df_orders_optimized = pd.read_sql(\"SELECT * FROM orders\", conn, dtype=dtype_spec)\n"
     ]
    }
   ],
   "source": [
    "dtype_spec = {\"order_id\": \"int32\",\"order_date\": \"object\"}\n",
    "df_orders_optimized = pd.read_sql(\"SELECT * FROM orders\", conn, dtype=dtype_spec)\n",
    "print(\"Memory usage (optimized):\", df_orders_optimized.memory_usage().sum())"
   ]
  },
  {
   "cell_type": "markdown",
   "id": "102ea9b7",
   "metadata": {},
   "source": [
    "Exporting Results to CSV"
   ]
  },
  {
   "cell_type": "code",
   "execution_count": 13,
   "id": "9dfa5e38",
   "metadata": {},
   "outputs": [],
   "source": [
    "df_high_value.to_csv(\"high_value_orders.csv\", index=False)"
   ]
  }
 ],
 "metadata": {
  "kernelspec": {
   "display_name": "Python 3",
   "language": "python",
   "name": "python3"
  },
  "language_info": {
   "codemirror_mode": {
    "name": "ipython",
    "version": 3
   },
   "file_extension": ".py",
   "mimetype": "text/x-python",
   "name": "python",
   "nbconvert_exporter": "python",
   "pygments_lexer": "ipython3",
   "version": "3.12.4"
  }
 },
 "nbformat": 4,
 "nbformat_minor": 5
}
