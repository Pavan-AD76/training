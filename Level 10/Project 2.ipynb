{
 "cells": [
  {
   "cell_type": "markdown",
   "id": "9ee01bff",
   "metadata": {},
   "source": [
    "# Inferential Statistics"
   ]
  },
  {
   "cell_type": "code",
   "execution_count": 4,
   "id": "50859906",
   "metadata": {},
   "outputs": [
    {
     "name": "stdout",
     "output_type": "stream",
     "text": [
      "Z-Statistic: -16.2188\n",
      "P-Value: 0.0000\n",
      "There is a significant difference in the survival rate between male and female passengers.\n"
     ]
    }
   ],
   "source": [
    "import pandas as pd\n",
    "import numpy as np\n",
    "from statsmodels.stats.proportion import proportions_ztest\n",
    "\n",
    "train = pd.read_csv('train.csv')\n",
    "\n",
    "male_survivors = train[(train['Sex'] == 'male') & (train['Survived'] == 1)].shape[0]\n",
    "male_total = train[train['Sex'] == 'male'].shape[0]\n",
    "\n",
    "female_survivors = train[(train['Sex'] == 'female') & (train['Survived'] == 1)].shape[0]\n",
    "female_total = train[train['Sex'] == 'female'].shape[0]\n",
    "\n",
    "count = np.array([male_survivors, female_survivors])\n",
    "nobs = np.array([male_total, female_total])\n",
    "\n",
    "z_stat, p_value = proportions_ztest(count, nobs)\n",
    "\n",
    "print(f\"Z-Statistic: {z_stat:.4f}\")\n",
    "print(f\"P-Value: {p_value:.4f}\")\n",
    "\n",
    "alpha = 0.05 \n",
    "if p_value < alpha:\n",
    "    print(\"There is a significant difference in the survival rate between male and female passengers.\")\n",
    "else:\n",
    "    print(\"There is no significant difference in the survival rate between male and female passengers.\")"
   ]
  }
 ],
 "metadata": {
  "kernelspec": {
   "display_name": "Python 3",
   "language": "python",
   "name": "python3"
  },
  "language_info": {
   "codemirror_mode": {
    "name": "ipython",
    "version": 3
   },
   "file_extension": ".py",
   "mimetype": "text/x-python",
   "name": "python",
   "nbconvert_exporter": "python",
   "pygments_lexer": "ipython3",
   "version": "3.12.4"
  }
 },
 "nbformat": 4,
 "nbformat_minor": 5
}
