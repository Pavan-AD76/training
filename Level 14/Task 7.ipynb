{
 "cells": [
  {
   "cell_type": "markdown",
   "id": "751bf5ed",
   "metadata": {},
   "source": [
    "Do the above scraping for multiple matches"
   ]
  },
  {
   "cell_type": "code",
   "execution_count": 1,
   "id": "9801e7b2",
   "metadata": {},
   "outputs": [
    {
     "name": "stdout",
     "output_type": "stream",
     "text": [
      "Empty DataFrame\n",
      "Columns: []\n",
      "Index: []\n"
     ]
    }
   ],
   "source": [
    "from selenium import webdriver\n",
    "from selenium.webdriver.chrome.service import Service\n",
    "from selenium.webdriver.chrome.options import Options\n",
    "from webdriver_manager.chrome import ChromeDriverManager\n",
    "from bs4 import BeautifulSoup\n",
    "import pandas as pd\n",
    "import time\n",
    "\n",
    "chrome_options = Options()\n",
    "chrome_options.add_argument(\"--headless\")\n",
    "chrome_options.add_argument(\"--disable-notifications\")\n",
    "service = Service(ChromeDriverManager().install())\n",
    "driver = webdriver.Chrome(service=service, options=chrome_options)\n",
    "driver.implicitly_wait(5)\n",
    "\n",
    "base_url = 'https://www.cricbuzz.com'\n",
    "archives_url = f'{base_url}/cricket-scorecard-archives'\n",
    "driver.get(archives_url)\n",
    "time.sleep(3)  \n",
    "\n",
    "soup = BeautifulSoup(driver.page_source, 'html.parser')\n",
    "match_links = []\n",
    "for a_tag in soup.find_all('a', href=True):\n",
    "    href = a_tag['href']\n",
    "    if '/live-cricket-scorecard/' in href:\n",
    "        full_url = base_url + href\n",
    "        if full_url not in match_links:\n",
    "            match_links.append(full_url)\n",
    "\n",
    "match_links = match_links[:5]\n",
    "\n",
    "all_matches_data = []\n",
    "for link in match_links:\n",
    "    driver.get(link)\n",
    "    time.sleep(2)  \n",
    "    match_soup = BeautifulSoup(driver.page_source, 'html.parser')\n",
    "    \n",
    "    title_tag = match_soup.find('h1', class_='cb-nav-hdr cb-font-18 line-ht24')\n",
    "    match_title = title_tag.text.strip() if title_tag else 'N/A'\n",
    "    \n",
    "    team_tags = match_soup.find_all('a', class_='cb-nav-tab')\n",
    "    teams = [tag.text.strip() for tag in team_tags] if team_tags else ['N/A', 'N/A']\n",
    "    \n",
    "    score_tags = match_soup.find_all('div', class_='cb-col cb-col-100 cb-scrd-hdr-rw')\n",
    "    scores = [tag.text.strip() for tag in score_tags] if score_tags else ['N/A']\n",
    "    \n",
    "    match_data = {\n",
    "        'Match Title': match_title,\n",
    "        'Teams': teams,\n",
    "        'Scores': scores\n",
    "    }\n",
    "    all_matches_data.append(match_data)\n",
    "\n",
    "df = pd.DataFrame(all_matches_data)\n",
    "print(df)\n",
    "\n",
    "driver.quit()"
   ]
  },
  {
   "cell_type": "code",
   "execution_count": null,
   "id": "2f1af58f",
   "metadata": {},
   "outputs": [],
   "source": []
  }
 ],
 "metadata": {
  "kernelspec": {
   "display_name": "Python 3",
   "language": "python",
   "name": "python3"
  },
  "language_info": {
   "codemirror_mode": {
    "name": "ipython",
    "version": 3
   },
   "file_extension": ".py",
   "mimetype": "text/x-python",
   "name": "python",
   "nbconvert_exporter": "python",
   "pygments_lexer": "ipython3",
   "version": "3.12.4"
  }
 },
 "nbformat": 4,
 "nbformat_minor": 5
}
