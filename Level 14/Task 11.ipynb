{
 "cells": [
  {
   "cell_type": "markdown",
   "id": "628711f8",
   "metadata": {},
   "source": [
    "Live Streaming API Endpoint"
   ]
  },
  {
   "cell_type": "code",
   "execution_count": 1,
   "id": "29aadb15",
   "metadata": {},
   "outputs": [],
   "source": [
    "from fastapi import FastAPI, HTTPException\n",
    "from pydantic import BaseModel\n",
    "from selenium import webdriver\n",
    "from selenium.webdriver.chrome.service import Service\n",
    "from selenium.webdriver.chrome.options import Options\n",
    "from webdriver_manager.chrome import ChromeDriverManager\n",
    "from bs4 import BeautifulSoup\n",
    "import time\n",
    "\n",
    "app = FastAPI()\n",
    "\n",
    "class LiveMatchCommentary(BaseModel):\n",
    "    match_id: int\n",
    "    commentary: str\n",
    "\n",
    "def scrape_live_commentary(match_id: int) -> str:\n",
    "    chrome_options = Options()\n",
    "    chrome_options.add_argument(\"--headless\")\n",
    "    chrome_options.add_argument(\"--disable-notifications\")\n",
    "\n",
    "    service = Service(ChromeDriverManager().install())\n",
    "    driver = webdriver.Chrome(service=service, options=chrome_options)\n",
    "    driver.implicitly_wait(5)\n",
    "\n",
    "    try:\n",
    "        url = f\"https://www.cricbuzz.com/live-cricket-scorecard/{match_id}\"\n",
    "        driver.get(url)\n",
    "        time.sleep(2) \n",
    "\n",
    "        soup = BeautifulSoup(driver.page_source, \"html.parser\")\n",
    "\n",
    "        commentary_block = soup.find(\"div\", class_=\"cb-col cb-col-100 cb-com-ln\")\n",
    "        commentary = commentary_block.text.strip() if commentary_block else \"No commentary found.\"\n",
    "\n",
    "        return commentary\n",
    "    finally:\n",
    "        driver.quit()\n",
    "\n",
    "@app.post(\"/get_live/{match_id}\", response_model=LiveMatchCommentary)\n",
    "def get_live_match_commentary(match_id: int):\n",
    "    try:\n",
    "        commentary = scrape_live_commentary(match_id)\n",
    "        return {\n",
    "            \"match_id\": match_id,\n",
    "            \"commentary\": commentary\n",
    "        }\n",
    "    except Exception as e:\n",
    "        raise HTTPException(status_code=500, detail=f\"Error: {str(e)}\")"
   ]
  }
 ],
 "metadata": {
  "kernelspec": {
   "display_name": "Python 3",
   "language": "python",
   "name": "python3"
  },
  "language_info": {
   "codemirror_mode": {
    "name": "ipython",
    "version": 3
   },
   "file_extension": ".py",
   "mimetype": "text/x-python",
   "name": "python",
   "nbconvert_exporter": "python",
   "pygments_lexer": "ipython3",
   "version": "3.12.4"
  }
 },
 "nbformat": 4,
 "nbformat_minor": 5
}
