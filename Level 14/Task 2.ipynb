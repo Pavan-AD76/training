{
 "cells": [
  {
   "cell_type": "markdown",
   "id": "2868603a",
   "metadata": {},
   "source": [
    "Scrape all matches from one series IPL 2021"
   ]
  },
  {
   "cell_type": "code",
   "execution_count": 6,
   "id": "b2e6cb70",
   "metadata": {},
   "outputs": [
    {
     "name": "stdout",
     "output_type": "stream",
     "text": [
      "\n",
      " No match data found. CSV export skipped.\n"
     ]
    }
   ],
   "source": [
    "import requests\n",
    "from bs4 import BeautifulSoup\n",
    "import csv\n",
    "import json\n",
    "\n",
    "series_url = \"https://www.cricbuzz.com/cricket-series/3472/indian-premier-league-2021/matches\"\n",
    "base_url = \"https://www.cricbuzz.com\"\n",
    "\n",
    "series_name = \"Indian Premier League 2021\"\n",
    "series_type = \"T20\"\n",
    "year = \"2021\"\n",
    "\n",
    "response = requests.get(series_url)\n",
    "soup = BeautifulSoup(response.text, 'html.parser')\n",
    "\n",
    "match_cards = soup.select('.cb-mtch-lst.cb-col.cb-col-100.cb-tms-itm')\n",
    "\n",
    "\n",
    "match_data = []\n",
    "\n",
    "for card in match_cards:\n",
    "    try:\n",
    "        match_href_tag = card.select_one('a')\n",
    "        match_href = base_url + match_href_tag['href']\n",
    "        match_name = match_href_tag.text.strip()\n",
    "\n",
    "        match_info = card.select_one('.cb-col.cb-col-100.cb-srs-mtchs-tm-dtl').text.strip().split(',')\n",
    "\n",
    "        match_no = match_info[0].strip() if len(match_info) >= 1 else \"\"\n",
    "        match_date = match_info[-2].strip() if len(match_info) >= 2 else \"\"\n",
    "        match_venue = match_info[-1].strip() if len(match_info) >= 3 else \"\"\n",
    "\n",
    "        match_type = \"T20\"  \n",
    "\n",
    "        if \"vs\" in match_name:\n",
    "            teams = match_name.split(\"vs\")\n",
    "            match_team1 = teams[0].strip()\n",
    "            match_team2 = teams[1].strip()\n",
    "        else:\n",
    "            match_team1 = match_team2 = \"\"\n",
    "\n",
    "        match_entry = {\n",
    "            \"year\": year,\n",
    "            \"series_type\": series_type,\n",
    "            \"series_name\": series_name,\n",
    "            \"match_no\": match_no,\n",
    "            \"match_type\": match_type,\n",
    "            \"match_name\": match_name,\n",
    "            \"match_href\": match_href,\n",
    "            \"match_team1\": match_team1,\n",
    "            \"match_team2\": match_team2,\n",
    "            \"match_datetime_start\": match_date,\n",
    "            \"match_date_end\": match_date,\n",
    "            \"match_venue\": match_venue\n",
    "        }\n",
    "\n",
    "        match_data.append(match_entry)\n",
    "\n",
    "    except Exception as e:\n",
    "        print(\"Error parsing card:\", e)\n",
    "\n",
    "for match in match_data[:3]:\n",
    "    print(match)\n",
    "\n",
    "with open(\"ipl_2021_matches.json\", \"w\", encoding=\"utf-8\") as json_file:\n",
    "    json.dump(match_data, json_file, indent=4, ensure_ascii=False)\n",
    "\n",
    "if match_data:\n",
    "    csv_columns = list(match_data[0].keys())\n",
    "    with open(\"ipl_2021_matches.csv\", \"w\", encoding=\"utf-8\", newline='') as csv_file:\n",
    "        writer = csv.DictWriter(csv_file, fieldnames=csv_columns)\n",
    "        writer.writeheader()\n",
    "        writer.writerows(match_data)\n",
    "    print(\"\\n Data exported to ipl_2021_matches.csv\")\n",
    "else:\n",
    "    print(\"\\n No match data found. CSV export skipped.\")\n"
   ]
  }
 ],
 "metadata": {
  "kernelspec": {
   "display_name": "Python 3",
   "language": "python",
   "name": "python3"
  },
  "language_info": {
   "codemirror_mode": {
    "name": "ipython",
    "version": 3
   },
   "file_extension": ".py",
   "mimetype": "text/x-python",
   "name": "python",
   "nbconvert_exporter": "python",
   "pygments_lexer": "ipython3",
   "version": "3.12.4"
  }
 },
 "nbformat": 4,
 "nbformat_minor": 5
}
