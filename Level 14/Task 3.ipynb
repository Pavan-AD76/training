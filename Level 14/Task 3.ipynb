{
 "cells": [
  {
   "cell_type": "markdown",
   "id": "3e70d70a",
   "metadata": {},
   "source": [
    "Scrape ball by ball commentary for the 1st Match"
   ]
  },
  {
   "cell_type": "code",
   "execution_count": 2,
   "id": "03655d84",
   "metadata": {},
   "outputs": [
    {
     "name": "stdout",
     "output_type": "stream",
     "text": [
      "Commentary exported to: mi_vs_rcb_2021_commentary.json\n"
     ]
    }
   ],
   "source": [
    "import requests\n",
    "import json\n",
    "import csv\n",
    "\n",
    "match_id = \"35612\"\n",
    "url = f\"https://www.cricbuzz.com/api/cricket-match/commentary/{match_id}\"\n",
    "\n",
    "response = requests.get(url)\n",
    "data = response.json()\n",
    "\n",
    "commentary_data = []\n",
    "\n",
    "for item in data.get(\"commentary\", []):\n",
    "    commentary_data.append({\n",
    "        \"over\": item.get(\"overNumber\"),\n",
    "        \"ball\": item.get(\"ballNbr\"),\n",
    "        \"commentary\": item.get(\"comm\"),\n",
    "        \"timestamp\": item.get(\"timestamp\")\n",
    "    })\n",
    "\n",
    "for c in commentary_data[:5]:\n",
    "    print(c)\n",
    "\n",
    "with open(\"mi_vs_rcb_2021_commentary.json\", \"w\", encoding=\"utf-8\") as f_json:\n",
    "    json.dump(commentary_data, f_json, indent=4, ensure_ascii=False)\n",
    "\n",
    "if commentary_data:\n",
    "    csv_columns = commentary_data[0].keys()\n",
    "    with open(\"mi_vs_rcb_2021_commentary.csv\", \"w\", encoding=\"utf-8\", newline='') as f_csv:\n",
    "        writer = csv.DictWriter(f_csv, fieldnames=csv_columns)\n",
    "        writer.writeheader()\n",
    "        writer.writerows(commentary_data)\n",
    "    print(\"Commentary exported to: mi_vs_rcb_2021_commentary.csv\")\n",
    "\n",
    "print(\"Commentary exported to: mi_vs_rcb_2021_commentary.json\")"
   ]
  }
 ],
 "metadata": {
  "kernelspec": {
   "display_name": "Python 3",
   "language": "python",
   "name": "python3"
  },
  "language_info": {
   "codemirror_mode": {
    "name": "ipython",
    "version": 3
   },
   "file_extension": ".py",
   "mimetype": "text/x-python",
   "name": "python",
   "nbconvert_exporter": "python",
   "pygments_lexer": "ipython3",
   "version": "3.12.4"
  }
 },
 "nbformat": 4,
 "nbformat_minor": 5
}
