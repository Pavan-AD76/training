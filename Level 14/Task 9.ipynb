{
 "cells": [
  {
   "cell_type": "markdown",
   "id": "d5955534",
   "metadata": {},
   "source": [
    "Create the Pydantic Model"
   ]
  },
  {
   "cell_type": "code",
   "execution_count": 1,
   "id": "de9e3d6f",
   "metadata": {},
   "outputs": [],
   "source": [
    "from fastapi import FastAPI\n",
    "from pydantic import BaseModel\n",
    "from typing import List, Union\n",
    "\n",
    "app = FastAPI()\n",
    "\n",
    "class MatchData(BaseModel):\n",
    "    match_title: str\n",
    "    teams: List[str]\n",
    "    scores: Union[List[str], None] = None\n",
    "\n",
    "@app.get(\"/match\", response_model=MatchData)\n",
    "def get_sample_match():\n",
    "    return {\n",
    "        \"match_title\": \"India vs Australia - 1st ODI\",\n",
    "        \"teams\": [\"India\", \"Australia\"],\n",
    "        \"scores\": [\"India 250/8\", \"Australia 240/10\"]\n",
    "    }\n"
   ]
  }
 ],
 "metadata": {
  "kernelspec": {
   "display_name": "Python 3",
   "language": "python",
   "name": "python3"
  },
  "language_info": {
   "codemirror_mode": {
    "name": "ipython",
    "version": 3
   },
   "file_extension": ".py",
   "mimetype": "text/x-python",
   "name": "python",
   "nbconvert_exporter": "python",
   "pygments_lexer": "ipython3",
   "version": "3.12.4"
  }
 },
 "nbformat": 4,
 "nbformat_minor": 5
}
