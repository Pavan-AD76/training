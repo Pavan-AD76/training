{
 "cells": [
  {
   "cell_type": "code",
   "execution_count": 2,
   "id": "785d3dbc",
   "metadata": {},
   "outputs": [
    {
     "name": "stdout",
     "output_type": "stream",
     "text": [
      "[[1 2]\n",
      " [3 4]] \n",
      "\n",
      "[[5 6]\n",
      " [7 8]] \n",
      "\n",
      "[[ 6  8]\n",
      " [10 12]]\n"
     ]
    }
   ],
   "source": [
    "import numpy as np\n",
    "arr1 = np.array([[1,2],[3,4]])\n",
    "print(arr1,\"\\n\")\n",
    "\n",
    "arr2 = np.array([[5,6],[7,8]])\n",
    "print(arr2,\"\\n\")\n",
    "\n",
    "arr_sum =arr1 + arr2\n",
    "print(arr_sum)"
   ]
  },
  {
   "cell_type": "code",
   "execution_count": 3,
   "id": "2c9e4a0a",
   "metadata": {},
   "outputs": [
    {
     "name": "stdout",
     "output_type": "stream",
     "text": [
      "[[19 22]\n",
      " [43 50]]\n"
     ]
    }
   ],
   "source": [
    "arr_dot = np.dot(arr1,arr2)\n",
    "print(arr_dot)"
   ]
  },
  {
   "cell_type": "code",
   "execution_count": 4,
   "id": "478b857c",
   "metadata": {},
   "outputs": [
    {
     "name": "stdout",
     "output_type": "stream",
     "text": [
      "[[ 5 12]\n",
      " [21 32]]\n"
     ]
    }
   ],
   "source": [
    "arr_elementwise_multiplication = arr1 * arr2\n",
    "print(arr_elementwise_multiplication)"
   ]
  },
  {
   "cell_type": "code",
   "execution_count": 5,
   "id": "06fc6ecb",
   "metadata": {},
   "outputs": [
    {
     "name": "stdout",
     "output_type": "stream",
     "text": [
      "[[19 22]\n",
      " [43 50]]\n"
     ]
    }
   ],
   "source": [
    "arr_matrix_multiplication = arr1 @ arr2\n",
    "print(arr_matrix_multiplication)"
   ]
  }
 ],
 "metadata": {
  "kernelspec": {
   "display_name": "Python 3",
   "language": "python",
   "name": "python3"
  },
  "language_info": {
   "codemirror_mode": {
    "name": "ipython",
    "version": 3
   },
   "file_extension": ".py",
   "mimetype": "text/x-python",
   "name": "python",
   "nbconvert_exporter": "python",
   "pygments_lexer": "ipython3",
   "version": "3.12.4"
  }
 },
 "nbformat": 4,
 "nbformat_minor": 5
}
