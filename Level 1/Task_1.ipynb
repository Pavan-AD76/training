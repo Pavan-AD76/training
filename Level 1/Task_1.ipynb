{
  "cells": [
    {
      "cell_type": "code",
      "execution_count": 14,
      "metadata": {
        "id": "CKExa-dQx_gx"
      },
      "outputs": [],
      "source": [
        "l = [23,35,63]\n",
        "l.append(5)"
      ]
    },
    {
      "cell_type": "code",
      "execution_count": 15,
      "metadata": {
        "colab": {
          "base_uri": "https://localhost:8080/"
        },
        "id": "XeKD6p1Y25mD",
        "outputId": "f0f2d8e5-9818-4391-995c-8021f9cc9cc3"
      },
      "outputs": [
        {
          "data": {
            "text/plain": [
              "[23, 35, 63, 5]"
            ]
          },
          "execution_count": 15,
          "metadata": {},
          "output_type": "execute_result"
        }
      ],
      "source": [
        "l"
      ]
    },
    {
      "cell_type": "code",
      "execution_count": 16,
      "metadata": {
        "colab": {
          "base_uri": "https://localhost:8080/"
        },
        "id": "Es30dYEy28bQ",
        "outputId": "682c81a0-9ae1-4265-af36-df19cbd31d1b"
      },
      "outputs": [
        {
          "data": {
            "text/plain": [
              "{18, 22, 46}"
            ]
          },
          "execution_count": 16,
          "metadata": {},
          "output_type": "execute_result"
        }
      ],
      "source": [
        "set_var = set()\n",
        "set_var = {22,46,18}\n",
        "set_var"
      ]
    },
    {
      "cell_type": "code",
      "execution_count": 17,
      "metadata": {
        "colab": {
          "base_uri": "https://localhost:8080/"
        },
        "id": "hUJuoPAg3nF0",
        "outputId": "f845621c-f812-41c5-cbab-b665a32a8801"
      },
      "outputs": [
        {
          "data": {
            "text/plain": [
              "(13, 57, 71)"
            ]
          },
          "execution_count": 17,
          "metadata": {},
          "output_type": "execute_result"
        }
      ],
      "source": [
        "t = (13,57,71)\n",
        "t"
      ]
    },
    {
      "cell_type": "code",
      "execution_count": 18,
      "metadata": {
        "id": "gO-Y2gy53zAw"
      },
      "outputs": [],
      "source": [
        "d = {'One':1, 'Three':3}"
      ]
    },
    {
      "cell_type": "code",
      "execution_count": 19,
      "metadata": {
        "colab": {
          "base_uri": "https://localhost:8080/"
        },
        "id": "EsZ6WO7PEhN_",
        "outputId": "c96b3d03-4947-4743-e3d4-7d629a6d11af"
      },
      "outputs": [
        {
          "data": {
            "text/plain": [
              "{'One': 1, 'Three': 3, 'Five': 5}"
            ]
          },
          "execution_count": 19,
          "metadata": {},
          "output_type": "execute_result"
        }
      ],
      "source": [
        "c = {'Five':5}\n",
        "d.update(c)\n",
        "d"
      ]
    }
  ],
  "metadata": {
    "colab": {
      "provenance": []
    },
    "kernelspec": {
      "display_name": "Python 3",
      "name": "python3"
    },
    "language_info": {
      "name": "python"
    }
  },
  "nbformat": 4,
  "nbformat_minor": 0
}
