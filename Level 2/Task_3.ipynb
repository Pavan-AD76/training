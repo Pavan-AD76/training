{
 "cells": [
  {
   "cell_type": "code",
   "execution_count": 3,
   "metadata": {},
   "outputs": [
    {
     "name": "stdout",
     "output_type": "stream",
     "text": [
      "Using normal function: [10, 20, 30, 40, 50, 60]\n",
      "Using lambda function: [10, 20, 30, 40, 50, 60]\n",
      "Using map function: [10, 20, 30, 40, 50, 60]\n",
      "Using filter function: [10, 20, 30, 40, 50, 60]\n"
     ]
    }
   ],
   "source": [
    "def f(a,b):\n",
    "    return [i * b for i in a]\n",
    "\n",
    "multiply_lambda = lambda a, b: [i * b for i in a]\n",
    "\n",
    "arr = [1,2,3,4,5,6]\n",
    "num = 10\n",
    "mapped_result = list(map(lambda x: x * num, arr))\n",
    "\n",
    "filtered_result = list(filter(lambda x: x % 2 == 0, mapped_result))\n",
    "\n",
    "print(\"Using normal function:\", f(arr, num))\n",
    "print(\"Using lambda function:\", multiply_lambda(arr, num))\n",
    "print(\"Using map function:\", mapped_result)\n",
    "print(\"Using filter function:\", filtered_result)"
   ]
  },
  {
   "cell_type": "code",
   "execution_count": null,
   "metadata": {},
   "outputs": [],
   "source": []
  }
 ],
 "metadata": {
  "kernelspec": {
   "display_name": "Python 3",
   "language": "python",
   "name": "python3"
  },
  "language_info": {
   "codemirror_mode": {
    "name": "ipython",
    "version": 3
   },
   "file_extension": ".py",
   "mimetype": "text/x-python",
   "name": "python",
   "nbconvert_exporter": "python",
   "pygments_lexer": "ipython3",
   "version": "3.12.4"
  }
 },
 "nbformat": 4,
 "nbformat_minor": 2
}
