{
 "cells": [
  {
   "cell_type": "markdown",
   "metadata": {},
   "source": [
    "# Measures of Central Tendency"
   ]
  },
  {
   "cell_type": "code",
   "execution_count": 9,
   "metadata": {},
   "outputs": [
    {
     "name": "stdout",
     "output_type": "stream",
     "text": [
      "Mean =  21.0\n",
      "Median =  5.5\n",
      "Mode =  5\n",
      "The mean is high due to the outlier 100, while median and mode better reflect the central trend.\n"
     ]
    }
   ],
   "source": [
    "import numpy as np\n",
    "from scipy import stats\n",
    "\n",
    "data = [3, 5, 5, 6, 7, 100]\n",
    "\n",
    "mean_value = np.mean(data)\n",
    "median_value = np.median(data)\n",
    "mode_result = stats.mode(data).mode.item() \n",
    "\n",
    "interpretation = (\"The mean is high due to the outlier 100, while median and mode better reflect the central trend.\")\n",
    "\n",
    "print(\"Mean = \",mean_value)\n",
    "print(\"Median = \",median_value)\n",
    "print(\"Mode = \",mode_result)\n",
    "print(interpretation)"
   ]
  },
  {
   "cell_type": "code",
   "execution_count": null,
   "metadata": {},
   "outputs": [],
   "source": []
  }
 ],
 "metadata": {
  "kernelspec": {
   "display_name": "Python 3",
   "language": "python",
   "name": "python3"
  },
  "language_info": {
   "codemirror_mode": {
    "name": "ipython",
    "version": 3
   },
   "file_extension": ".py",
   "mimetype": "text/x-python",
   "name": "python",
   "nbconvert_exporter": "python",
   "pygments_lexer": "ipython3",
   "version": "3.12.4"
  }
 },
 "nbformat": 4,
 "nbformat_minor": 2
}
