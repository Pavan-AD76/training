{
 "cells": [
  {
   "cell_type": "markdown",
   "metadata": {},
   "source": [
    "# Measures of Dispersion"
   ]
  },
  {
   "cell_type": "code",
   "execution_count": 4,
   "metadata": {},
   "outputs": [
    {
     "name": "stdout",
     "output_type": "stream",
     "text": [
      "Mean = 6\n",
      "Variance = 10\n",
      "Standard Deviation = 3.1622776601683795\n",
      "Variance measures spread, and standard deviation shows typical deviation from the mean.\n"
     ]
    }
   ],
   "source": [
    "import statistics\n",
    "\n",
    "l = [2, 4, 6, 8, 10]\n",
    "\n",
    "mean_ = statistics.mean(l)\n",
    "\n",
    "variance = statistics.variance(l)\n",
    "\n",
    "std_dev = statistics.stdev(l)\n",
    "\n",
    "significance = \"Variance measures spread, and standard deviation shows typical deviation from the mean.\"\n",
    "\n",
    "print(\"Mean =\",mean_)\n",
    "print(\"Variance =\", variance)\n",
    "print(\"Standard Deviation =\", std_dev)\n",
    "print(significance)"
   ]
  }
 ],
 "metadata": {
  "kernelspec": {
   "display_name": "Python 3",
   "language": "python",
   "name": "python3"
  },
  "language_info": {
   "codemirror_mode": {
    "name": "ipython",
    "version": 3
   },
   "file_extension": ".py",
   "mimetype": "text/x-python",
   "name": "python",
   "nbconvert_exporter": "python",
   "pygments_lexer": "ipython3",
   "version": "3.12.4"
  }
 },
 "nbformat": 4,
 "nbformat_minor": 2
}
