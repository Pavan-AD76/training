{
 "cells": [
  {
   "cell_type": "markdown",
   "metadata": {},
   "source": [
    "# Gaussian Distribution Area"
   ]
  },
  {
   "cell_type": "code",
   "execution_count": 1,
   "metadata": {},
   "outputs": [
    {
     "name": "stdout",
     "output_type": "stream",
     "text": [
      "Approximately 40.13% of scores fall above 4.25.\n"
     ]
    }
   ],
   "source": [
    "from scipy.stats import norm \n",
    "\n",
    "z_value = 0.25\n",
    "mean = 4\n",
    "std_dev = 1\n",
    "\n",
    "p = norm.sf(z_value) * 100\n",
    "\n",
    "print(f\"Approximately {p:.2f}% of scores fall above 4.25.\")"
   ]
  }
 ],
 "metadata": {
  "kernelspec": {
   "display_name": "Python 3",
   "language": "python",
   "name": "python3"
  },
  "language_info": {
   "codemirror_mode": {
    "name": "ipython",
    "version": 3
   },
   "file_extension": ".py",
   "mimetype": "text/x-python",
   "name": "python",
   "nbconvert_exporter": "python",
   "pygments_lexer": "ipython3",
   "version": "3.12.4"
  }
 },
 "nbformat": 4,
 "nbformat_minor": 2
}
