{
 "cells": [
  {
   "cell_type": "markdown",
   "metadata": {},
   "source": [
    "# Z-Score Calculation"
   ]
  },
  {
   "cell_type": "code",
   "execution_count": null,
   "metadata": {},
   "outputs": [
    {
     "name": "stdout",
     "output_type": "stream",
     "text": [
      "Mean = 4.5\n",
      "Standard Deviation = 1.707825127659933\n",
      "Z-scores: [-1.4638501094227998, -0.8783100656536799, -0.29277002188455997, 0.29277002188455997, 0.8783100656536799, 1.4638501094227998]\n",
      "The z-score for 5 is ~0.29, meaning it’s 0.29 standard deviations above the mean.\n"
     ]
    }
   ],
   "source": [
    "import numpy as np\n",
    "\n",
    "data = np.array([2, 3, 4, 5, 6, 7])\n",
    "\n",
    "mean_value = np.mean(data)\n",
    "stdev_value = np.std(data, ddof=0)\n",
    "\n",
    "z_scores = (data - mean_value) / stdev_value\n",
    "\n",
    "z_score_x5 = z_scores[np.where(data == 5)][0]\n",
    "\n",
    "print(\"Mean =\", mean_value)\n",
    "print(\"Standard Deviation =\", stdev_value)\n",
    "print(\"Z-scores:\", z_scores.tolist())\n",
    "print(f\"The z-score for 5 is ~{z_score_x5:.2f}, meaning it’s {z_score_x5:.2f} standard deviations above the mean.\")"
   ]
  }
 ],
 "metadata": {
  "kernelspec": {
   "display_name": "Python 3",
   "language": "python",
   "name": "python3"
  },
  "language_info": {
   "codemirror_mode": {
    "name": "ipython",
    "version": 3
   },
   "file_extension": ".py",
   "mimetype": "text/x-python",
   "name": "python",
   "nbconvert_exporter": "python",
   "pygments_lexer": "ipython3",
   "version": "3.12.4"
  }
 },
 "nbformat": 4,
 "nbformat_minor": 2
}
