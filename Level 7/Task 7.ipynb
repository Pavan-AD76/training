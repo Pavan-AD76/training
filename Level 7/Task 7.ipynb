{
 "cells": [
  {
   "cell_type": "markdown",
   "metadata": {},
   "source": [
    "# Simulate Bernoulli Trials"
   ]
  },
  {
   "cell_type": "code",
   "execution_count": 21,
   "metadata": {},
   "outputs": [
    {
     "name": "stdout",
     "output_type": "stream",
     "text": [
      "Simulated Probability of Success: 0.287\n",
      "Matches theoretical P ≈ 0.3 for Bernoulli trial.\n"
     ]
    }
   ],
   "source": [
    "import math\n",
    "import numpy as np\n",
    "\n",
    "trials = np.random.binomial(n=1, p=0.3, size=1000)\n",
    "\n",
    "simulated_p = np.mean(trials)\n",
    "\n",
    "print(\"Simulated Probability of Success:\", simulated_p)\n",
    "\n",
    "print(\"Matches theoretical P ≈ 0.3 for Bernoulli trial.\")"
   ]
  }
 ],
 "metadata": {
  "kernelspec": {
   "display_name": "Python 3",
   "language": "python",
   "name": "python3"
  },
  "language_info": {
   "codemirror_mode": {
    "name": "ipython",
    "version": 3
   },
   "file_extension": ".py",
   "mimetype": "text/x-python",
   "name": "python",
   "nbconvert_exporter": "python",
   "pygments_lexer": "ipython3",
   "version": "3.12.4"
  }
 },
 "nbformat": 4,
 "nbformat_minor": 2
}
