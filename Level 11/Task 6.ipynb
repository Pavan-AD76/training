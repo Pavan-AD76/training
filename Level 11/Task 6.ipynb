{
 "cells": [
  {
   "cell_type": "markdown",
   "id": "9c4cbde6",
   "metadata": {},
   "source": [
    "# MongoDB CR 6 + Text Indexing"
   ]
  },
  {
   "cell_type": "code",
   "execution_count": 2,
   "id": "9a102661",
   "metadata": {},
   "outputs": [
    {
     "name": "stdout",
     "output_type": "stream",
     "text": [
      "Search Results for 'mouse':\n",
      "{'_id': ObjectId('67f6427548994d2c47f1e6c7'), 'name': 'Wireless Mouse', 'description': 'Ergonomic wireless mouse', 'price': 25}\n",
      "\n",
      "Final Products Collection:\n",
      "{'_id': ObjectId('67f6427548994d2c47f1e6c7'), 'name': 'Wireless Mouse', 'description': 'Ergonomic wireless mouse', 'price': 25}\n",
      "{'_id': ObjectId('67f6427548994d2c47f1e6c9'), 'name': 'Gaming Mousepad', 'description': 'Large mousepad for gamers', 'price': 15}\n"
     ]
    }
   ],
   "source": [
    "from pymongo import MongoClient, TEXT\n",
    "\n",
    "client = MongoClient(\"mongodb://localhost:27017/\") \n",
    "db = client[\"store\"]\n",
    "products = db[\"products\"]\n",
    "\n",
    "products.insert_many([\n",
    "    { \"name\": \"Wireless Mouse\", \"description\": \"Ergonomic wireless mouse\", \"price\": 25 },\n",
    "    { \"name\": \"Mechanical Keyboard\", \"description\": \"RGB backlit keyboard\", \"price\": 80 },\n",
    "    { \"name\": \"Gaming Mousepad\", \"description\": \"Large mousepad for gamers\", \"price\": 20 }\n",
    "])\n",
    "\n",
    "products.create_index([(\"name\", TEXT), (\"description\", TEXT)])\n",
    "\n",
    "print(\"Search Results for 'mouse':\")\n",
    "for product in products.find({ \"$text\": { \"$search\": \"mouse\" } }):\n",
    "    print(product)\n",
    "\n",
    "products.update_one(\n",
    "    { \"name\": \"Gaming Mousepad\" },\n",
    "    { \"$set\": { \"price\": 15 } }\n",
    ")\n",
    "\n",
    "products.delete_one({ \"price\": 80 })\n",
    "\n",
    "print(\"\\nFinal Products Collection:\")\n",
    "for product in products.find():\n",
    "    print(product)"
   ]
  },
  {
   "cell_type": "code",
   "execution_count": null,
   "id": "c7dd5aae",
   "metadata": {},
   "outputs": [],
   "source": []
  }
 ],
 "metadata": {
  "kernelspec": {
   "display_name": "Python 3",
   "language": "python",
   "name": "python3"
  },
  "language_info": {
   "codemirror_mode": {
    "name": "ipython",
    "version": 3
   },
   "file_extension": ".py",
   "mimetype": "text/x-python",
   "name": "python",
   "nbconvert_exporter": "python",
   "pygments_lexer": "ipython3",
   "version": "3.12.4"
  }
 },
 "nbformat": 4,
 "nbformat_minor": 5
}
