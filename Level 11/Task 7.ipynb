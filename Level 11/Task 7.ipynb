{
 "cells": [
  {
   "cell_type": "markdown",
   "id": "231b4220",
   "metadata": {},
   "source": [
    "# MongoDB Aggregations"
   ]
  },
  {
   "cell_type": "code",
   "execution_count": 1,
   "id": "2e8bac88",
   "metadata": {},
   "outputs": [
    {
     "name": "stdout",
     "output_type": "stream",
     "text": [
      "Aggregated Sales Data:\n",
      "{'category': 'Electronics', 'totalSales': 1150}\n",
      "{'category': 'Fashion', 'totalSales': 80}\n"
     ]
    }
   ],
   "source": [
    "from pymongo import MongoClient\n",
    "\n",
    "client = MongoClient(\"mongodb://localhost:27017/\")\n",
    "db = client[\"ecommerce\"]\n",
    "orders = db[\"orders\"]\n",
    "\n",
    "orders.insert_many([\n",
    "    { \"product\": \"Laptop\", \"category\": \"Electronics\", \"amount\": 1000 },\n",
    "    { \"product\": \"Shirt\", \"category\": \"Fashion\", \"amount\": 30 },\n",
    "    { \"product\": \"Headphones\", \"category\": \"Electronics\", \"amount\": 150 },\n",
    "    { \"product\": \"Shoes\", \"category\": \"Fashion\", \"amount\": 80 }\n",
    "])\n",
    "\n",
    "pipeline = [\n",
    "    { \"$match\": { \"amount\": { \"$gt\": 50 } } }, \n",
    "    { \"$group\": { \"_id\": \"$category\", \"totalSales\": { \"$sum\": \"$amount\" } } },\n",
    "    { \"$sort\": { \"totalSales\": -1 } }\n",
    "]\n",
    "\n",
    "results = orders.aggregate(pipeline)\n",
    "\n",
    "print(\"Aggregated Sales Data:\")\n",
    "for doc in results:\n",
    "    print({ \"category\": doc[\"_id\"], \"totalSales\": doc[\"totalSales\"] })"
   ]
  }
 ],
 "metadata": {
  "kernelspec": {
   "display_name": "Python 3",
   "language": "python",
   "name": "python3"
  },
  "language_info": {
   "codemirror_mode": {
    "name": "ipython",
    "version": 3
   },
   "file_extension": ".py",
   "mimetype": "text/x-python",
   "name": "python",
   "nbconvert_exporter": "python",
   "pygments_lexer": "ipython3",
   "version": "3.12.4"
  }
 },
 "nbformat": 4,
 "nbformat_minor": 5
}
