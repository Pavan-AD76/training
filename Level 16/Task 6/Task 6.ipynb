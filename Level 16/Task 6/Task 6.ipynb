{
 "cells": [
  {
   "cell_type": "code",
   "execution_count": 0,
   "metadata": {
    "application/vnd.databricks.v1+cell": {
     "cellMetadata": {
      "byteLimit": 2048000,
      "rowLimit": 10000
     },
     "inputWidgets": {},
     "nuid": "6dff7271-f9c3-4cc9-bae2-4eeecbbef975",
     "showTitle": false,
     "tableResultSettingsMap": {},
     "title": ""
    }
   },
   "outputs": [],
   "source": [
    "df = spark.read.option(\"header\", \"true\").csv(\"/FileStore/tables/ipl_commentary_data.csv\")"
   ]
  },
  {
   "cell_type": "code",
   "execution_count": 0,
   "metadata": {
    "application/vnd.databricks.v1+cell": {
     "cellMetadata": {
      "byteLimit": 2048000,
      "rowLimit": 10000
     },
     "inputWidgets": {},
     "nuid": "e513f292-1078-4ab8-88e5-f8e7e1d81367",
     "showTitle": false,
     "tableResultSettingsMap": {},
     "title": ""
    }
   },
   "outputs": [],
   "source": [
    "from pyspark.sql.functions import col\n",
    "\n",
    "df_transformed = df.filter(col(\"match_status\") == \"completed\")\n",
    "\n",
    "df_transformed.write.format(\"delta\").mode(\"overwrite\").save(\"/tmp/ipl_completed_matches\")"
   ]
  },
  {
   "cell_type": "code",
   "execution_count": 0,
   "metadata": {
    "application/vnd.databricks.v1+cell": {
     "cellMetadata": {
      "byteLimit": 2048000,
      "rowLimit": 10000
     },
     "inputWidgets": {},
     "nuid": "0ea39dd1-a581-47a9-a67d-9117cc4a6a96",
     "showTitle": false,
     "tableResultSettingsMap": {},
     "title": ""
    }
   },
   "outputs": [
    {
     "output_type": "stream",
     "name": "stdout",
     "output_type": "stream",
     "text": [
      "+--------------------+-----+\n|          team1_name|count|\n+--------------------+-----+\n|                  MI|28804|\n|                 RCB|16311|\n|                 KKR|15471|\n|                PBKS|14617|\n|                 SRH|14241|\n|                 CSK|14155|\n|                  DC|13531|\n|                  RR|12873|\n|                 LSG| 5612|\n|                  GT| 4954|\n|                 RPS| 1923|\n|                  GL| 1884|\n|2021-04-22 19:30:...|  229|\n|                null|    9|\n+--------------------+-----+\n\n"
     ]
    }
   ],
   "source": [
    "df.groupBy(\"team1_name\").count().orderBy(\"count\", ascending=False).show()"
   ]
  },
  {
   "cell_type": "code",
   "execution_count": 0,
   "metadata": {
    "application/vnd.databricks.v1+cell": {
     "cellMetadata": {},
     "inputWidgets": {},
     "nuid": "045dca95-f290-4b10-a94b-435de1743356",
     "showTitle": false,
     "tableResultSettingsMap": {},
     "title": ""
    }
   },
   "outputs": [],
   "source": []
  }
 ],
 "metadata": {
  "application/vnd.databricks.v1+notebook": {
   "computePreferences": null,
   "dashboards": [],
   "environmentMetadata": {
    "base_environment": "",
    "environment_version": "1"
   },
   "inputWidgetPreferences": null,
   "language": "python",
   "notebookMetadata": {
    "pythonIndentUnit": 4
   },
   "notebookName": "Task 6",
   "widgets": {}
  }
 },
 "nbformat": 4,
 "nbformat_minor": 0
}