{
 "cells": [
  {
   "cell_type": "code",
   "execution_count": 0,
   "metadata": {
    "application/vnd.databricks.v1+cell": {
     "cellMetadata": {
      "byteLimit": 2048000,
      "rowLimit": 10000
     },
     "inputWidgets": {},
     "nuid": "a36b4b54-ff76-4ceb-a1f8-5834c27a8380",
     "showTitle": false,
     "tableResultSettingsMap": {},
     "title": ""
    }
   },
   "outputs": [],
   "source": [
    "df = spark.read.option(\"header\", \"true\").csv(\"/FileStore/tables/ipl_commentary_data.csv\")"
   ]
  },
  {
   "cell_type": "code",
   "execution_count": 0,
   "metadata": {
    "application/vnd.databricks.v1+cell": {
     "cellMetadata": {
      "byteLimit": 2048000,
      "rowLimit": 10000
     },
     "inputWidgets": {},
     "nuid": "7cfdee24-7169-43e2-a33a-727c3fff424d",
     "showTitle": false,
     "tableResultSettingsMap": {},
     "title": ""
    }
   },
   "outputs": [],
   "source": [
    "columns_to_keep = [\"year\", \"match_no\", \"team1_name\", \"team2_name\", \"match_status\", \"match_tie_breaker\"]\n",
    "df_cleaned = df.select(*columns_to_keep)"
   ]
  },
  {
   "cell_type": "code",
   "execution_count": 0,
   "metadata": {
    "application/vnd.databricks.v1+cell": {
     "cellMetadata": {
      "byteLimit": 2048000,
      "rowLimit": 10000
     },
     "inputWidgets": {},
     "nuid": "eecfc447-aa66-4b36-9e13-6a4eb4eff9fa",
     "showTitle": false,
     "tableResultSettingsMap": {},
     "title": ""
    }
   },
   "outputs": [],
   "source": [
    "delta_path = \"/tmp/ipl_matches_delta\"\n",
    "\n",
    "df_cleaned.write.format(\"delta\").mode(\"overwrite\").save(delta_path)"
   ]
  },
  {
   "cell_type": "code",
   "execution_count": 0,
   "metadata": {
    "application/vnd.databricks.v1+cell": {
     "cellMetadata": {
      "byteLimit": 2048000,
      "rowLimit": 10000
     },
     "inputWidgets": {},
     "nuid": "d0e2d2bd-3048-41f5-bafb-6fca179fe7b5",
     "showTitle": false,
     "tableResultSettingsMap": {},
     "title": ""
    }
   },
   "outputs": [
    {
     "output_type": "stream",
     "name": "stdout",
     "output_type": "stream",
     "text": [
      "Out[8]: DataFrame[]"
     ]
    }
   ],
   "source": [
    "spark.sql(\"DROP TABLE IF EXISTS ipl_matches\")\n",
    "spark.sql(f\"CREATE TABLE ipl_matches USING DELTA LOCATION '{delta_path}'\")"
   ]
  },
  {
   "cell_type": "code",
   "execution_count": 0,
   "metadata": {
    "application/vnd.databricks.v1+cell": {
     "cellMetadata": {
      "byteLimit": 2048000,
      "rowLimit": 10000
     },
     "inputWidgets": {},
     "nuid": "616f74b0-b702-4913-8171-87b12e3850b4",
     "showTitle": false,
     "tableResultSettingsMap": {},
     "title": ""
    }
   },
   "outputs": [
    {
     "output_type": "stream",
     "name": "stdout",
     "output_type": "stream",
     "text": [
      "+----+---------+----------+----------+------------+-----------------+\n|year| match_no|team1_name|team2_name|match_status|match_tie_breaker|\n+----+---------+----------+----------+------------+-----------------+\n|2021|1st Match|        MI|       RCB|   completed|             null|\n|2021|1st Match|        MI|       RCB|   completed|             null|\n|2021|1st Match|        MI|       RCB|   completed|             null|\n|2021|1st Match|        MI|       RCB|   completed|             null|\n|2021|1st Match|        MI|       RCB|   completed|             null|\n|2021|1st Match|        MI|       RCB|   completed|             null|\n|2021|1st Match|        MI|       RCB|   completed|             null|\n|2021|1st Match|        MI|       RCB|   completed|             null|\n|2021|1st Match|        MI|       RCB|   completed|             null|\n|2021|1st Match|        MI|       RCB|   completed|             null|\n+----+---------+----------+----------+------------+-----------------+\n\n"
     ]
    }
   ],
   "source": [
    "spark.sql(\"SELECT * FROM ipl_matches LIMIT 10\").show()"
   ]
  },
  {
   "cell_type": "code",
   "execution_count": 0,
   "metadata": {
    "application/vnd.databricks.v1+cell": {
     "cellMetadata": {},
     "inputWidgets": {},
     "nuid": "19567a3c-e193-45c5-9296-3790bad416f7",
     "showTitle": false,
     "tableResultSettingsMap": {},
     "title": ""
    }
   },
   "outputs": [],
   "source": []
  }
 ],
 "metadata": {
  "application/vnd.databricks.v1+notebook": {
   "computePreferences": null,
   "dashboards": [],
   "environmentMetadata": {
    "base_environment": "",
    "environment_version": "1"
   },
   "inputWidgetPreferences": null,
   "language": "python",
   "notebookMetadata": {
    "pythonIndentUnit": 4
   },
   "notebookName": "Task 5",
   "widgets": {}
  }
 },
 "nbformat": 4,
 "nbformat_minor": 0
}