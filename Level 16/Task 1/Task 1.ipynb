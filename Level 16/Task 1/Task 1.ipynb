{
 "cells": [
  {
   "cell_type": "code",
   "execution_count": 0,
   "metadata": {
    "application/vnd.databricks.v1+cell": {
     "cellMetadata": {
      "byteLimit": 2048000,
      "rowLimit": 10000
     },
     "inputWidgets": {},
     "nuid": "a51c3b63-f9a7-4deb-8491-c9c332afde4d",
     "showTitle": false,
     "tableResultSettingsMap": {},
     "title": ""
    }
   },
   "outputs": [
    {
     "output_type": "stream",
     "name": "stdout",
     "output_type": "stream",
     "text": [
      "root\n |-- year: string (nullable = true)\n |-- series_type: string (nullable = true)\n |-- series_name: string (nullable = true)\n |-- match_no: string (nullable = true)\n |-- match_type: string (nullable = true)\n |-- match_id: string (nullable = true)\n |-- match_venue: string (nullable = true)\n |-- match_status: string (nullable = true)\n |-- match_winning_team: string (nullable = true)\n |-- match_tie_breaker: string (nullable = true)\n |-- match_toss: string (nullable = true)\n |-- umpires: string (nullable = true)\n |-- match_referee: string (nullable = true)\n |-- third_umpires: string (nullable = true)\n |-- match_datetime: string (nullable = true)\n |-- team1_name: string (nullable = true)\n |-- team2_name: string (nullable = true)\n |-- team1_score: string (nullable = true)\n |-- team1_wickets: string (nullable = true)\n |-- team2_score: string (nullable = true)\n |-- team2_wickets: string (nullable = true)\n |-- team1_captain: string (nullable = true)\n |-- team1_players: string (nullable = true)\n |-- team1_bench: string (nullable = true)\n |-- team1_support_staff: string (nullable = true)\n |-- team2_captain: string (nullable = true)\n |-- team2_players: string (nullable = true)\n |-- team2_bench: string (nullable = true)\n |-- team2_support_staff: string (nullable = true)\n |-- over_no: string (nullable = true)\n |-- over_total_runs: string (nullable = true)\n |-- over_summary: string (nullable = true)\n |-- over_batsman1_name: string (nullable = true)\n |-- over_batsman1_curr_scr: string (nullable = true)\n |-- over_batsman1_played_balls: string (nullable = true)\n |-- over_batsman2_name: string (nullable = true)\n |-- over_batsman2_curr_scr: string (nullable = true)\n |-- over_batsman2_played_balls: string (nullable = true)\n |-- over_bowler_name: string (nullable = true)\n |-- over_bowler_bowled_overs: string (nullable = true)\n |-- over_bowler_bowled_maidens: string (nullable = true)\n |-- over_bowler_bowled_runs: string (nullable = true)\n |-- over_bowler_bowled_wickets: string (nullable = true)\n\n+----+-----------+--------------------+---------+----------+--------+--------------------+------------+--------------------+-----------------+--------------------+--------------------+--------------------+--------------------+--------------------+----------+----------+-----------+-------------+-----------+-------------+-------------+-------------+--------------------+-------------------+-------------+-------------+--------------------+-------------------+-------+---------------+------------+------------------+----------------------+--------------------------+------------------+----------------------+--------------------------+----------------+------------------------+--------------------------+-----------------------+--------------------------+\n|year|series_type|         series_name| match_no|match_type|match_id|         match_venue|match_status|  match_winning_team|match_tie_breaker|          match_toss|             umpires|       match_referee|       third_umpires|      match_datetime|team1_name|team2_name|team1_score|team1_wickets|team2_score|team2_wickets|team1_captain|team1_players|         team1_bench|team1_support_staff|team2_captain|team2_players|         team2_bench|team2_support_staff|over_no|over_total_runs|over_summary|over_batsman1_name|over_batsman1_curr_scr|over_batsman1_played_balls|over_batsman2_name|over_batsman2_curr_scr|over_batsman2_played_balls|over_bowler_name|over_bowler_bowled_overs|over_bowler_bowled_maidens|over_bowler_bowled_runs|over_bowler_bowled_wickets|\n+----+-----------+--------------------+---------+----------+--------+--------------------+------------+--------------------+-----------------+--------------------+--------------------+--------------------+--------------------+--------------------+----------+----------+-----------+-------------+-----------+-------------+-------------+-------------+--------------------+-------------------+-------------+-------------+--------------------+-------------------+-------+---------------+------------+------------------+----------------------+--------------------------+------------------+----------------------+--------------------------+----------------+------------------------+--------------------------+-----------------------+--------------------------+\n|2021| T20 League|Indian Premier Le...|1st Match|   T20 IPL|   35612|{'stadium': 'MA C...|   completed|Royal Challengers...|             null|Royal Challengers...|KN Anantha Padman...|Vengalil Narayana...|Chettithody Shams...|2021-04-09 19:30:...|        MI|       RCB|        159|            9|        160|            8|         null|           []|Nathan Coulter-Ni...|               null|         null|           []|Adam Zampa, Devdu...|               null|      1|              5| 2 0 0 2 0 1|      Rohit Sharma|                     5|                         6|        Chris Lynn|                     0|                         0|  Mohammed Siraj|                       1|                         0|                      5|                         0|\n|2021| T20 League|Indian Premier Le...|1st Match|   T20 IPL|   35612|{'stadium': 'MA C...|   completed|Royal Challengers...|             null|Royal Challengers...|KN Anantha Padman...|Vengalil Narayana...|Chettithody Shams...|2021-04-09 19:30:...|        MI|       RCB|        159|            9|        160|            8|         null|           []|Nathan Coulter-Ni...|               null|         null|           []|Adam Zampa, Devdu...|               null|      2|              1| 1 0 0 0 0 0|        Chris Lynn|                     0|                         5|      Rohit Sharma|                     6|                         7|   Kyle Jamieson|                       1|                         0|                      1|                         0|\n|2021| T20 League|Indian Premier Le...|1st Match|   T20 IPL|   35612|{'stadium': 'MA C...|   completed|Royal Challengers...|             null|Royal Challengers...|KN Anantha Padman...|Vengalil Narayana...|Chettithody Shams...|2021-04-09 19:30:...|        MI|       RCB|        159|            9|        160|            8|         null|           []|Nathan Coulter-Ni...|               null|         null|           []|Adam Zampa, Devdu...|               null|      3|              6| 0 0 0 0 4 2|      Rohit Sharma|                    12|                        13|        Chris Lynn|                     0|                         5|  Mohammed Siraj|                       2|                         0|                     11|                         0|\n|2021| T20 League|Indian Premier Le...|1st Match|   T20 IPL|   35612|{'stadium': 'MA C...|   completed|Royal Challengers...|             null|Royal Challengers...|KN Anantha Padman...|Vengalil Narayana...|Chettithody Shams...|2021-04-09 19:30:...|        MI|       RCB|        159|            9|        160|            8|         null|           []|Nathan Coulter-Ni...|               null|         null|           []|Adam Zampa, Devdu...|               null|      4|             12| 0 4 1 6 1 W|        Chris Lynn|                     5|                         9|      Rohit Sharma|                    19|                        15|Yuzvendra Chahal|                       1|                         0|                     12|                         0|\n|2021| T20 League|Indian Premier Le...|1st Match|   T20 IPL|   35612|{'stadium': 'MA C...|   completed|Royal Challengers...|             null|Royal Challengers...|KN Anantha Padman...|Vengalil Narayana...|Chettithody Shams...|2021-04-09 19:30:...|        MI|       RCB|        159|            9|        160|            8|         null|           []|Nathan Coulter-Ni...|               null|         null|           []|Adam Zampa, Devdu...|               null|      5|              6| 4 0 1 1 0 0|  Suryakumar Yadav|                     5|                         5|        Chris Lynn|                     6|                        10|   Kyle Jamieson|                       2|                         0|                      7|                         0|\n+----+-----------+--------------------+---------+----------+--------+--------------------+------------+--------------------+-----------------+--------------------+--------------------+--------------------+--------------------+--------------------+----------+----------+-----------+-------------+-----------+-------------+-------------+-------------+--------------------+-------------------+-------------+-------------+--------------------+-------------------+-------+---------------+------------+------------------+----------------------+--------------------------+------------------+----------------------+--------------------------+----------------+------------------------+--------------------------+-----------------------+--------------------------+\nonly showing top 5 rows\n\n"
     ]
    }
   ],
   "source": [
    "file_location = \"/FileStore/tables/ipl_over_data-1.csv\"\n",
    "file_type = \"csv\"\n",
    "\n",
    "ipl_string_df = spark.read.format(file_type) \\\n",
    "    .option(\"inferSchema\", False) \\\n",
    "    .option(\"header\", True) \\\n",
    "    .load(file_location)\n",
    "\n",
    "ipl_string_df.printSchema()\n",
    "ipl_string_df.show(5)"
   ]
  },
  {
   "cell_type": "code",
   "execution_count": 0,
   "metadata": {
    "application/vnd.databricks.v1+cell": {
     "cellMetadata": {
      "byteLimit": 2048000,
      "rowLimit": 10000
     },
     "inputWidgets": {},
     "nuid": "704dd107-248d-45ed-9748-c7a3e404beae",
     "showTitle": false,
     "tableResultSettingsMap": {},
     "title": ""
    }
   },
   "outputs": [
    {
     "output_type": "stream",
     "name": "stdout",
     "output_type": "stream",
     "text": [
      "root\n |-- id: integer (nullable = true)\n |-- season: integer (nullable = true)\n |-- city: string (nullable = true)\n |-- date: date (nullable = true)\n |-- team1: string (nullable = true)\n |-- team2: string (nullable = true)\n |-- toss_winner: string (nullable = true)\n |-- toss_decision: string (nullable = true)\n |-- winner: string (nullable = true)\n |-- result: string (nullable = true)\n |-- result_margin: string (nullable = true)\n |-- umpire1: string (nullable = true)\n |-- umpire2: string (nullable = true)\n\n+----+------+----+----+-----+-----+-----------+-------------+------+------+-------------+-------+-------+\n|  id|season|city|date|team1|team2|toss_winner|toss_decision|winner|result|result_margin|umpire1|umpire2|\n+----+------+----+----+-----+-----+-----------+-------------+------+------+-------------+-------+-------+\n|null|  null|null|null| null| null|       null|         null|  null|  null|         null|   null|   null|\n|null|  null|null|null| null| null|       null|         null|  null|  null|         null|   null|   null|\n|null|  null|null|null| null| null|       null|         null|  null|  null|         null|   null|   null|\n|null|  null|null|null| null| null|       null|         null|  null|  null|         null|   null|   null|\n|null|  null|null|null| null| null|       null|         null|  null|  null|         null|   null|   null|\n+----+------+----+----+-----+-----+-----------+-------------+------+------+-------------+-------+-------+\nonly showing top 5 rows\n\n"
     ]
    }
   ],
   "source": [
    "from pyspark.sql.types import StructType, StructField, StringType, IntegerType, FloatType\n",
    "\n",
    "ipl_schema = StructType([\n",
    "    StructField(\"match_id\", IntegerType(), True),\n",
    "    StructField(\"inning\", IntegerType(), True),\n",
    "    StructField(\"over\", IntegerType(), True),\n",
    "    StructField(\"ball\", IntegerType(), True),\n",
    "    StructField(\"batsman\", StringType(), True),\n",
    "    StructField(\"non_striker\", StringType(), True),\n",
    "    StructField(\"bowler\", StringType(), True),\n",
    "    StructField(\"batsman_runs\", IntegerType(), True),\n",
    "    StructField(\"extra_runs\", IntegerType(), True),\n",
    "    StructField(\"total_runs\", IntegerType(), True),\n",
    "    StructField(\"is_wicket\", IntegerType(), True),\n",
    "    StructField(\"dismissal_kind\", StringType(), True),\n",
    "    StructField(\"player_dismissed\", StringType(), True),\n",
    "    StructField(\"fielder\", StringType(), True),\n",
    "    StructField(\"extras_type\", StringType(), True),\n",
    "    StructField(\"batting_team\", StringType(), True),\n",
    "    StructField(\"bowling_team\", StringType(), True)\n",
    "])\n"
   ]
  },
  {
   "cell_type": "code",
   "execution_count": 0,
   "metadata": {
    "application/vnd.databricks.v1+cell": {
     "cellMetadata": {
      "byteLimit": 2048000,
      "rowLimit": 10000
     },
     "inputWidgets": {},
     "nuid": "81f4b931-8410-4069-b79a-1111f5194e85",
     "showTitle": false,
     "tableResultSettingsMap": {},
     "title": ""
    }
   },
   "outputs": [
    {
     "output_type": "stream",
     "name": "stdout",
     "output_type": "stream",
     "text": [
      "root\n |-- id: integer (nullable = true)\n |-- season: integer (nullable = true)\n |-- city: string (nullable = true)\n |-- date: date (nullable = true)\n |-- team1: string (nullable = true)\n |-- team2: string (nullable = true)\n |-- toss_winner: string (nullable = true)\n |-- toss_decision: string (nullable = true)\n |-- winner: string (nullable = true)\n |-- result: string (nullable = true)\n |-- result_margin: string (nullable = true)\n |-- umpire1: string (nullable = true)\n |-- umpire2: string (nullable = true)\n\n+----+------+--------------------+----+-------+-----+--------------------+-------------+--------------------+------+--------------------+--------------------+--------------------+\n|  id|season|                city|date|  team1|team2|         toss_winner|toss_decision|              winner|result|       result_margin|             umpire1|             umpire2|\n+----+------+--------------------+----+-------+-----+--------------------+-------------+--------------------+------+--------------------+--------------------+--------------------+\n|2021|  null|Indian Premier Le...|null|T20 IPL|35612|{'stadium': 'MA C...|    completed|Royal Challengers...|  null|Royal Challengers...|KN Anantha Padman...|Vengalil Narayana...|\n|2021|  null|Indian Premier Le...|null|T20 IPL|35612|{'stadium': 'MA C...|    completed|Royal Challengers...|  null|Royal Challengers...|KN Anantha Padman...|Vengalil Narayana...|\n|2021|  null|Indian Premier Le...|null|T20 IPL|35612|{'stadium': 'MA C...|    completed|Royal Challengers...|  null|Royal Challengers...|KN Anantha Padman...|Vengalil Narayana...|\n|2021|  null|Indian Premier Le...|null|T20 IPL|35612|{'stadium': 'MA C...|    completed|Royal Challengers...|  null|Royal Challengers...|KN Anantha Padman...|Vengalil Narayana...|\n|2021|  null|Indian Premier Le...|null|T20 IPL|35612|{'stadium': 'MA C...|    completed|Royal Challengers...|  null|Royal Challengers...|KN Anantha Padman...|Vengalil Narayana...|\n+----+------+--------------------+----+-------+-----+--------------------+-------------+--------------------+------+--------------------+--------------------+--------------------+\nonly showing top 5 rows\n\n"
     ]
    }
   ],
   "source": [
    "ipl_struct_df = spark.read.format(file_type) \\\n",
    "    .option(\"header\", True) \\\n",
    "    .schema(ipl_schema) \\\n",
    "    .load(file_location)\n",
    "\n",
    "ipl_struct_df.printSchema()\n",
    "ipl_struct_df.show(5)"
   ]
  }
 ],
 "metadata": {
  "application/vnd.databricks.v1+notebook": {
   "computePreferences": null,
   "dashboards": [],
   "environmentMetadata": {
    "base_environment": "",
    "environment_version": "1"
   },
   "inputWidgetPreferences": null,
   "language": "python",
   "notebookMetadata": {
    "pythonIndentUnit": 4
   },
   "notebookName": "Task 1",
   "widgets": {}
  }
 },
 "nbformat": 4,
 "nbformat_minor": 0
}