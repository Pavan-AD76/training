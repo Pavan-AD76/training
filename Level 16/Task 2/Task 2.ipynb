{
 "cells": [
  {
   "cell_type": "code",
   "execution_count": 0,
   "metadata": {
    "application/vnd.databricks.v1+cell": {
     "cellMetadata": {
      "byteLimit": 2048000,
      "rowLimit": 10000
     },
     "inputWidgets": {},
     "nuid": "6ccd49ff-219e-48af-87cb-3114340d49fd",
     "showTitle": false,
     "tableResultSettingsMap": {},
     "title": ""
    }
   },
   "outputs": [
    {
     "output_type": "stream",
     "name": "stdout",
     "output_type": "stream",
     "text": [
      "Out[2]: DataFrame[year: string, series_type: string, series_name: string, match_no: string, match_type: string, match_id: string, match_venue: string, match_status: string, match_winning_team: string, match_tie_breaker: string, match_toss: string, umpires: string, match_referee: string, third_umpires: string, match_datetime: string, team1_name: string, team2_name: string, team1_score: string, team1_wickets: string, team2_score: string, team2_wickets: string, team1_captain: string, team1_players: string, team1_bench: string, team1_support_staff: string, team2_captain: string, team2_players: string, team2_bench: string, team2_support_staff: string, ball_no: string, over_no: string, ball_commentary: string]"
     ]
    }
   ],
   "source": [
    "df = spark.read.option(\"header\", \"true\").csv(\"/FileStore/tables/ipl_commentary_data.csv\")\n",
    "\n",
    "df\n"
   ]
  },
  {
   "cell_type": "code",
   "execution_count": 0,
   "metadata": {
    "application/vnd.databricks.v1+cell": {
     "cellMetadata": {
      "byteLimit": 2048000,
      "rowLimit": 10000
     },
     "inputWidgets": {},
     "nuid": "06f7b205-dc88-4084-b359-44cfd5f376d9",
     "showTitle": false,
     "tableResultSettingsMap": {},
     "title": ""
    }
   },
   "outputs": [
    {
     "output_type": "stream",
     "name": "stdout",
     "output_type": "stream",
     "text": [
      "+----+-----------+--------------------+---------+----------+--------+--------------------+------------+--------------------+-----------------+--------------------+--------------------+--------------------+--------------------+--------------------+----------+----------+-----------+-------------+-----------+-------------+-------------+-------------+--------------------+-------------------+-------------+-------------+--------------------+-------------------+-------+-------+--------------------+\n|year|series_type|         series_name| match_no|match_type|match_id|         match_venue|match_status|  match_winning_team|match_tie_breaker|          match_toss|             umpires|       match_referee|       third_umpires|      match_datetime|team1_name|team2_name|team1_score|team1_wickets|team2_score|team2_wickets|team1_captain|team1_players|         team1_bench|team1_support_staff|team2_captain|team2_players|         team2_bench|team2_support_staff|ball_no|over_no|     ball_commentary|\n+----+-----------+--------------------+---------+----------+--------+--------------------+------------+--------------------+-----------------+--------------------+--------------------+--------------------+--------------------+--------------------+----------+----------+-----------+-------------+-----------+-------------+-------------+-------------+--------------------+-------------------+-------------+-------------+--------------------+-------------------+-------+-------+--------------------+\n|2021| T20 League|Indian Premier Le...|1st Match|   T20 IPL|   35612|{'stadium': 'MA C...|   completed|Royal Challengers...|             null|Royal Challengers...|KN Anantha Padman...|Vengalil Narayana...|Chettithody Shams...|2021-04-09 19:30:...|        MI|       RCB|        159|            9|        160|            8|         null|           []|Nathan Coulter-Ni...|               null|         null|           []|Adam Zampa, Devdu...|               null|      1|    0.1|Siraj to Rohit, 2...|\n|2021| T20 League|Indian Premier Le...|1st Match|   T20 IPL|   35612|{'stadium': 'MA C...|   completed|Royal Challengers...|             null|Royal Challengers...|KN Anantha Padman...|Vengalil Narayana...|Chettithody Shams...|2021-04-09 19:30:...|        MI|       RCB|        159|            9|        160|            8|         null|           []|Nathan Coulter-Ni...|               null|         null|           []|Adam Zampa, Devdu...|               null|      2|    0.2|Siraj to Rohit, n...|\n|2021| T20 League|Indian Premier Le...|1st Match|   T20 IPL|   35612|{'stadium': 'MA C...|   completed|Royal Challengers...|             null|Royal Challengers...|KN Anantha Padman...|Vengalil Narayana...|Chettithody Shams...|2021-04-09 19:30:...|        MI|       RCB|        159|            9|        160|            8|         null|           []|Nathan Coulter-Ni...|               null|         null|           []|Adam Zampa, Devdu...|               null|      3|    0.3|Siraj to Rohit, n...|\n|2021| T20 League|Indian Premier Le...|1st Match|   T20 IPL|   35612|{'stadium': 'MA C...|   completed|Royal Challengers...|             null|Royal Challengers...|KN Anantha Padman...|Vengalil Narayana...|Chettithody Shams...|2021-04-09 19:30:...|        MI|       RCB|        159|            9|        160|            8|         null|           []|Nathan Coulter-Ni...|               null|         null|           []|Adam Zampa, Devdu...|               null|      4|    0.4|Siraj to Rohit, 2...|\n|2021| T20 League|Indian Premier Le...|1st Match|   T20 IPL|   35612|{'stadium': 'MA C...|   completed|Royal Challengers...|             null|Royal Challengers...|KN Anantha Padman...|Vengalil Narayana...|Chettithody Shams...|2021-04-09 19:30:...|        MI|       RCB|        159|            9|        160|            8|         null|           []|Nathan Coulter-Ni...|               null|         null|           []|Adam Zampa, Devdu...|               null|      5|    0.5|Siraj to Rohit, n...|\n+----+-----------+--------------------+---------+----------+--------+--------------------+------------+--------------------+-----------------+--------------------+--------------------+--------------------+--------------------+--------------------+----------+----------+-----------+-------------+-----------+-------------+-------------+-------------+--------------------+-------------------+-------------+-------------+--------------------+-------------------+-------+-------+--------------------+\nonly showing top 5 rows\n\n"
     ]
    }
   ],
   "source": [
    "df.show(5) "
   ]
  },
  {
   "cell_type": "code",
   "execution_count": 0,
   "metadata": {
    "application/vnd.databricks.v1+cell": {
     "cellMetadata": {
      "byteLimit": 2048000,
      "rowLimit": 10000
     },
     "inputWidgets": {},
     "nuid": "51bb10ca-54b8-4977-b401-a2e9ca239fea",
     "showTitle": false,
     "tableResultSettingsMap": {},
     "title": ""
    }
   },
   "outputs": [
    {
     "output_type": "stream",
     "name": "stdout",
     "output_type": "stream",
     "text": [
      "== Physical Plan ==\nFileScan csv [year#5041,series_type#5042,series_name#5043,match_no#5044,match_type#5045,match_id#5046,match_venue#5047,match_status#5048,match_winning_team#5049,match_tie_breaker#5050,match_toss#5051,umpires#5052,match_referee#5053,third_umpires#5054,match_datetime#5055,team1_name#5056,team2_name#5057,team1_score#5058,team1_wickets#5059,team2_score#5060,team2_wickets#5061,team1_captain#5062,team1_players#5063,team1_bench#5064,... 8 more fields] Batched: false, DataFilters: [], Format: CSV, Location: InMemoryFileIndex(1 paths)[dbfs:/FileStore/tables/ipl_commentary_data.csv], PartitionFilters: [], PushedFilters: [], ReadSchema: struct<year:string,series_type:string,series_name:string,match_no:string,match_type:string,match_...\n\n\n"
     ]
    }
   ],
   "source": [
    "df.explain(mode=\"simple\")"
   ]
  },
  {
   "cell_type": "code",
   "execution_count": 0,
   "metadata": {
    "application/vnd.databricks.v1+cell": {
     "cellMetadata": {
      "byteLimit": 2048000,
      "rowLimit": 10000
     },
     "inputWidgets": {},
     "nuid": "9373f379-2156-4ba1-b5b9-0b49214d5509",
     "showTitle": false,
     "tableResultSettingsMap": {},
     "title": ""
    }
   },
   "outputs": [
    {
     "output_type": "stream",
     "name": "stdout",
     "output_type": "stream",
     "text": [
      "== Parsed Logical Plan ==\nRelation [year#5041,series_type#5042,series_name#5043,match_no#5044,match_type#5045,match_id#5046,match_venue#5047,match_status#5048,match_winning_team#5049,match_tie_breaker#5050,match_toss#5051,umpires#5052,match_referee#5053,third_umpires#5054,match_datetime#5055,team1_name#5056,team2_name#5057,team1_score#5058,team1_wickets#5059,team2_score#5060,team2_wickets#5061,team1_captain#5062,team1_players#5063,team1_bench#5064,... 8 more fields] csv\n\n== Analyzed Logical Plan ==\nyear: string, series_type: string, series_name: string, match_no: string, match_type: string, match_id: string, match_venue: string, match_status: string, match_winning_team: string, match_tie_breaker: string, match_toss: string, umpires: string, match_referee: string, third_umpires: string, match_datetime: string, team1_name: string, team2_name: string, team1_score: string, team1_wickets: string, team2_score: string, team2_wickets: string, team1_captain: string, team1_players: string, team1_bench: string, ... 8 more fields\nRelation [year#5041,series_type#5042,series_name#5043,match_no#5044,match_type#5045,match_id#5046,match_venue#5047,match_status#5048,match_winning_team#5049,match_tie_breaker#5050,match_toss#5051,umpires#5052,match_referee#5053,third_umpires#5054,match_datetime#5055,team1_name#5056,team2_name#5057,team1_score#5058,team1_wickets#5059,team2_score#5060,team2_wickets#5061,team1_captain#5062,team1_players#5063,team1_bench#5064,... 8 more fields] csv\n\n== Optimized Logical Plan ==\nRelation [year#5041,series_type#5042,series_name#5043,match_no#5044,match_type#5045,match_id#5046,match_venue#5047,match_status#5048,match_winning_team#5049,match_tie_breaker#5050,match_toss#5051,umpires#5052,match_referee#5053,third_umpires#5054,match_datetime#5055,team1_name#5056,team2_name#5057,team1_score#5058,team1_wickets#5059,team2_score#5060,team2_wickets#5061,team1_captain#5062,team1_players#5063,team1_bench#5064,... 8 more fields] csv\n\n== Physical Plan ==\nFileScan csv [year#5041,series_type#5042,series_name#5043,match_no#5044,match_type#5045,match_id#5046,match_venue#5047,match_status#5048,match_winning_team#5049,match_tie_breaker#5050,match_toss#5051,umpires#5052,match_referee#5053,third_umpires#5054,match_datetime#5055,team1_name#5056,team2_name#5057,team1_score#5058,team1_wickets#5059,team2_score#5060,team2_wickets#5061,team1_captain#5062,team1_players#5063,team1_bench#5064,... 8 more fields] Batched: false, DataFilters: [], Format: CSV, Location: InMemoryFileIndex(1 paths)[dbfs:/FileStore/tables/ipl_commentary_data.csv], PartitionFilters: [], PushedFilters: [], ReadSchema: struct<year:string,series_type:string,series_name:string,match_no:string,match_type:string,match_...\n\n"
     ]
    }
   ],
   "source": [
    "df.explain(mode=\"extended\")"
   ]
  },
  {
   "cell_type": "code",
   "execution_count": 0,
   "metadata": {
    "application/vnd.databricks.v1+cell": {
     "cellMetadata": {
      "byteLimit": 2048000,
      "rowLimit": 10000
     },
     "inputWidgets": {},
     "nuid": "54bc743b-5d32-4fcd-abcb-d6b129359f80",
     "showTitle": false,
     "tableResultSettingsMap": {},
     "title": ""
    }
   },
   "outputs": [
    {
     "output_type": "stream",
     "name": "stdout",
     "output_type": "stream",
     "text": [
      "Found 0 WholeStageCodegen subtrees.\n\n"
     ]
    }
   ],
   "source": [
    "df.explain(mode=\"codegen\")"
   ]
  },
  {
   "cell_type": "code",
   "execution_count": 0,
   "metadata": {
    "application/vnd.databricks.v1+cell": {
     "cellMetadata": {
      "byteLimit": 2048000,
      "rowLimit": 10000
     },
     "inputWidgets": {},
     "nuid": "dbf12b79-649b-449b-b5d4-2c3e53f46fa8",
     "showTitle": false,
     "tableResultSettingsMap": {},
     "title": ""
    }
   },
   "outputs": [
    {
     "output_type": "stream",
     "name": "stdout",
     "output_type": "stream",
     "text": [
      "== Optimized Logical Plan ==\nRelation [year#5041,series_type#5042,series_name#5043,match_no#5044,match_type#5045,match_id#5046,match_venue#5047,match_status#5048,match_winning_team#5049,match_tie_breaker#5050,match_toss#5051,umpires#5052,match_referee#5053,third_umpires#5054,match_datetime#5055,team1_name#5056,team2_name#5057,team1_score#5058,team1_wickets#5059,team2_score#5060,team2_wickets#5061,team1_captain#5062,team1_players#5063,team1_bench#5064,... 8 more fields] csv, Statistics(sizeInBytes=140.5 MiB)\n\n== Physical Plan ==\nFileScan csv [year#5041,series_type#5042,series_name#5043,match_no#5044,match_type#5045,match_id#5046,match_venue#5047,match_status#5048,match_winning_team#5049,match_tie_breaker#5050,match_toss#5051,umpires#5052,match_referee#5053,third_umpires#5054,match_datetime#5055,team1_name#5056,team2_name#5057,team1_score#5058,team1_wickets#5059,team2_score#5060,team2_wickets#5061,team1_captain#5062,team1_players#5063,team1_bench#5064,... 8 more fields] Batched: false, DataFilters: [], Format: CSV, Location: InMemoryFileIndex(1 paths)[dbfs:/FileStore/tables/ipl_commentary_data.csv], PartitionFilters: [], PushedFilters: [], ReadSchema: struct<year:string,series_type:string,series_name:string,match_no:string,match_type:string,match_...\n\n\n"
     ]
    }
   ],
   "source": [
    "df.explain(mode=\"cost\")"
   ]
  },
  {
   "cell_type": "code",
   "execution_count": 0,
   "metadata": {
    "application/vnd.databricks.v1+cell": {
     "cellMetadata": {
      "byteLimit": 2048000,
      "rowLimit": 10000
     },
     "inputWidgets": {},
     "nuid": "d2eb8c34-4bf8-42c7-9cc7-24a18e7e0830",
     "showTitle": false,
     "tableResultSettingsMap": {},
     "title": ""
    }
   },
   "outputs": [
    {
     "output_type": "stream",
     "name": "stdout",
     "output_type": "stream",
     "text": [
      "== Physical Plan ==\nScan csv  (1)\n\n\n(1) Scan csv \nOutput [32]: [year#5041, series_type#5042, series_name#5043, match_no#5044, match_type#5045, match_id#5046, match_venue#5047, match_status#5048, match_winning_team#5049, match_tie_breaker#5050, match_toss#5051, umpires#5052, match_referee#5053, third_umpires#5054, match_datetime#5055, team1_name#5056, team2_name#5057, team1_score#5058, team1_wickets#5059, team2_score#5060, team2_wickets#5061, team1_captain#5062, team1_players#5063, team1_bench#5064, team1_support_staff#5065, team2_captain#5066, team2_players#5067, team2_bench#5068, team2_support_staff#5069, ball_no#5070, over_no#5071, ball_commentary#5072]\nBatched: false\nLocation: InMemoryFileIndex [dbfs:/FileStore/tables/ipl_commentary_data.csv]\nReadSchema: struct<year:string,series_type:string,series_name:string,match_no:string,match_type:string,match_id:string,match_venue:string,match_status:string,match_winning_team:string,match_tie_breaker:string,match_toss:string,umpires:string,match_referee:string,third_umpires:string,match_datetime:string,team1_name:string,team2_name:string,team1_score:string,team1_wickets:string,team2_score:string,team2_wickets:string,team1_captain:string,team1_players:string,team1_bench:string,team1_support_staff:string,team2_captain:string,team2_players:string,team2_bench:string,team2_support_staff:string,ball_no:string,over_no:string,ball_commentary:string>\n\n\n"
     ]
    }
   ],
   "source": [
    "df.explain(mode=\"formatted\")"
   ]
  }
 ],
 "metadata": {
  "application/vnd.databricks.v1+notebook": {
   "computePreferences": null,
   "dashboards": [],
   "environmentMetadata": {
    "base_environment": "",
    "environment_version": "1"
   },
   "inputWidgetPreferences": null,
   "language": "python",
   "notebookMetadata": {
    "pythonIndentUnit": 4
   },
   "notebookName": "Task 2",
   "widgets": {}
  }
 },
 "nbformat": 4,
 "nbformat_minor": 0
}