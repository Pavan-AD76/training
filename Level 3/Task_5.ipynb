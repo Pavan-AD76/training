{
 "cells": [
  {
   "cell_type": "code",
   "execution_count": 1,
   "id": "8633d774",
   "metadata": {},
   "outputs": [
    {
     "name": "stdout",
     "output_type": "stream",
     "text": [
      "Original List: [[1, 2, 3], [4, 5, 6]]\n",
      "Deep Copied List: [[99, 2, 3], [4, 5, 6]]\n"
     ]
    }
   ],
   "source": [
    "import copy\n",
    "\n",
    "original_list = [[1, 2, 3], [4, 5, 6]]\n",
    "\n",
    "deep_copied_list = copy.deepcopy(original_list)\n",
    "\n",
    "deep_copied_list[0][0] = 99\n",
    "\n",
    "print(\"Original List:\", original_list)\n",
    "print(\"Deep Copied List:\", deep_copied_list)"
   ]
  }
 ],
 "metadata": {
  "kernelspec": {
   "display_name": "Python 3",
   "language": "python",
   "name": "python3"
  },
  "language_info": {
   "codemirror_mode": {
    "name": "ipython",
    "version": 3
   },
   "file_extension": ".py",
   "mimetype": "text/x-python",
   "name": "python",
   "nbconvert_exporter": "python",
   "pygments_lexer": "ipython3",
   "version": "3.12.4"
  }
 },
 "nbformat": 4,
 "nbformat_minor": 5
}
