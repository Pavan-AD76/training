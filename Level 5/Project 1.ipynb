{
 "cells": [
  {
   "cell_type": "markdown",
   "metadata": {},
   "source": [
    "# Personal Budget Tracker"
   ]
  },
  {
   "cell_type": "code",
   "execution_count": 1,
   "metadata": {},
   "outputs": [
    {
     "name": "stdout",
     "output_type": "stream",
     "text": [
      "\n",
      "Budget Summary\n",
      "Total Income: $3700\n",
      "Total Expenses: $2350\n",
      "Balance: $1350\n",
      "Great! You have savings.\n"
     ]
    }
   ],
   "source": [
    "def calculate_total(data):\n",
    "    return sum(data.values())\n",
    "\n",
    "def display_summary(income, expenses):\n",
    "    total_income = calculate_total(income)\n",
    "    total_expenses = calculate_total(expenses)\n",
    "    balance = total_income - total_expenses\n",
    "    \n",
    "    print(\"\\nBudget Summary\")\n",
    "    print(f\"Total Income: ${total_income}\")\n",
    "    print(f\"Total Expenses: ${total_expenses}\")\n",
    "    print(f\"Balance: ${balance}\")\n",
    "    \n",
    "    if balance < 0:\n",
    "        print(\"Warning: You are in deficit!\")\n",
    "    elif balance == 0:\n",
    "        print(\"Note: Your balance is zero.\")\n",
    "    else:\n",
    "        print(\"Great! You have savings.\")\n",
    "\n",
    "income_sources = {\n",
    "    \"Salary\": 3000,\n",
    "    \"Freelance\": 500,\n",
    "    \"Investments\": 200\n",
    "}\n",
    "\n",
    "expense_categories = {\n",
    "    \"Rent\": 1200,\n",
    "    \"Food\": 500,\n",
    "    \"Transport\": 200,\n",
    "    \"Entertainment\": 150,\n",
    "    \"Utilities\": 300\n",
    "}\n",
    "\n",
    "display_summary(income_sources, expense_categories)"
   ]
  }
 ],
 "metadata": {
  "kernelspec": {
   "display_name": "Python 3",
   "language": "python",
   "name": "python3"
  },
  "language_info": {
   "codemirror_mode": {
    "name": "ipython",
    "version": 3
   },
   "file_extension": ".py",
   "mimetype": "text/x-python",
   "name": "python",
   "nbconvert_exporter": "python",
   "pygments_lexer": "ipython3",
   "version": "3.12.4"
  }
 },
 "nbformat": 4,
 "nbformat_minor": 2
}
