{
 "cells": [
  {
   "cell_type": "code",
   "execution_count": 0,
   "metadata": {
    "application/vnd.databricks.v1+cell": {
     "cellMetadata": {
      "byteLimit": 2048000,
      "rowLimit": 10000
     },
     "inputWidgets": {},
     "nuid": "f8d98cb3-83ce-4809-a4bb-c02730fdc88f",
     "showTitle": false,
     "tableResultSettingsMap": {},
     "title": ""
    }
   },
   "outputs": [
    {
     "output_type": "stream",
     "name": "stdout",
     "output_type": "stream",
     "text": [
      "+---+------+-----+-----+------+---------+----------+\n| id|season|team1|team2|winner|   result|    method|\n+---+------+-----+-----+------+---------+----------+\n|  1|  2008|  RCB|  KKR|   KKR|   normal|      null|\n|  2|  2008|  CSK| KXIP|   CSK|   normal|      null|\n|  3|  2009|   MI|   RR|    MI|   normal|      null|\n|  4|  2010|  RCB|  CSK|   RCB|      tie|Super Over|\n|  5|  2011|  KKR|   RR|    RR|      tie|Super Over|\n|  6|  2012|   MI|   DD|  null|no result|      null|\n|  7|  2013|  SRH|  RCB|   SRH|      tie|Super Over|\n|  8|  2014| KXIP|  CSK|  KXIP|      tie|      null|\n+---+------+-----+-----+------+---------+----------+\n\n"
     ]
    }
   ],
   "source": [
    "from pyspark.sql import SparkSession\n",
    "from pyspark.sql.types import StructType, StructField, StringType\n",
    "\n",
    "spark = SparkSession.builder.getOrCreate()\n",
    "\n",
    "data = [\n",
    "    (\"1\", \"2008\", \"RCB\", \"KKR\", \"KKR\", \"normal\", None),\n",
    "    (\"2\", \"2008\", \"CSK\", \"KXIP\", \"CSK\", \"normal\", None),\n",
    "    (\"3\", \"2009\", \"MI\", \"RR\", \"MI\", \"normal\", None),\n",
    "    (\"4\", \"2010\", \"RCB\", \"CSK\", \"RCB\", \"tie\", \"Super Over\"),\n",
    "    (\"5\", \"2011\", \"KKR\", \"RR\", \"RR\", \"tie\", \"Super Over\"),\n",
    "    (\"6\", \"2012\", \"MI\", \"DD\", None, \"no result\", None),\n",
    "    (\"7\", \"2013\", \"SRH\", \"RCB\", \"SRH\", \"tie\", \"Super Over\"),\n",
    "    (\"8\", \"2014\", \"KXIP\", \"CSK\", \"KXIP\", \"tie\", None)\n",
    "]\n",
    "\n",
    "schema = StructType([\n",
    "    StructField(\"id\", StringType(), True),\n",
    "    StructField(\"season\", StringType(), True),\n",
    "    StructField(\"team1\", StringType(), True),\n",
    "    StructField(\"team2\", StringType(), True),\n",
    "    StructField(\"winner\", StringType(), True),\n",
    "    StructField(\"result\", StringType(), True),\n",
    "    StructField(\"method\", StringType(), True)\n",
    "])\n",
    "\n",
    "df = spark.createDataFrame(data, schema)\n",
    "\n",
    "df.createOrReplaceTempView(\"ipl_matches\")\n",
    "\n",
    "df.show()"
   ]
  },
  {
   "cell_type": "code",
   "execution_count": 0,
   "metadata": {
    "application/vnd.databricks.v1+cell": {
     "cellMetadata": {
      "byteLimit": 2048000,
      "rowLimit": 10000
     },
     "inputWidgets": {},
     "nuid": "d420fe98-6e4c-4548-9119-cc155787b171",
     "showTitle": false,
     "tableResultSettingsMap": {},
     "title": ""
    }
   },
   "outputs": [
    {
     "output_type": "stream",
     "name": "stdout",
     "output_type": "stream",
     "text": [
      "+----------+\n|    method|\n+----------+\n|Super Over|\n|      null|\n+----------+\n\n"
     ]
    }
   ],
   "source": [
    "df.filter(df.result == \"tie\").select(\"method\").distinct().show()"
   ]
  }
 ],
 "metadata": {
  "application/vnd.databricks.v1+notebook": {
   "computePreferences": null,
   "dashboards": [],
   "environmentMetadata": {
    "base_environment": "",
    "environment_version": "1"
   },
   "inputWidgetPreferences": null,
   "language": "python",
   "notebookMetadata": {
    "pythonIndentUnit": 4
   },
   "notebookName": "Task 3",
   "widgets": {}
  }
 },
 "nbformat": 4,
 "nbformat_minor": 0
}