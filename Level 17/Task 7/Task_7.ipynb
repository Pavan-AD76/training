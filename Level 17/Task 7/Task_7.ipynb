{
 "cells": [
  {
   "cell_type": "code",
   "execution_count": 0,
   "metadata": {
    "application/vnd.databricks.v1+cell": {
     "cellMetadata": {
      "byteLimit": 2048000,
      "rowLimit": 10000
     },
     "inputWidgets": {},
     "nuid": "49343245-fcb6-46b4-b592-53b9036190bb",
     "showTitle": false,
     "tableResultSettingsMap": {},
     "title": ""
    }
   },
   "outputs": [],
   "source": [
    "df_commentary = spark.read.option(\"header\", False).csv(\"/FileStore/tables/ipl_commentary_data.csv\")\n",
    "\n",
    "df_balls = spark.read.option(\"header\", False).csv(\"/FileStore/tables/ipl_over_data.csv\")"
   ]
  },
  {
   "cell_type": "code",
   "execution_count": 0,
   "metadata": {
    "application/vnd.databricks.v1+cell": {
     "cellMetadata": {
      "byteLimit": 2048000,
      "rowLimit": 10000
     },
     "inputWidgets": {},
     "nuid": "7906cdd6-2fc9-485b-89cf-05c2fb9d88dd",
     "showTitle": false,
     "tableResultSettingsMap": {},
     "title": ""
    }
   },
   "outputs": [],
   "source": [
    "comm_matches = df_commentary.select(\"_c0\").distinct()\n",
    "ball_matches = df_balls.select(\"_c0\").distinct()"
   ]
  },
  {
   "cell_type": "code",
   "execution_count": 0,
   "metadata": {
    "application/vnd.databricks.v1+cell": {
     "cellMetadata": {
      "byteLimit": 2048000,
      "rowLimit": 10000
     },
     "inputWidgets": {},
     "nuid": "5f36a3ac-e2c5-4d2d-b536-6881826c1763",
     "showTitle": false,
     "tableResultSettingsMap": {},
     "title": ""
    }
   },
   "outputs": [
    {
     "output_type": "stream",
     "name": "stdout",
     "output_type": "stream",
     "text": [
      "INNER JOIN: 10 matches found in both datasets\n"
     ]
    }
   ],
   "source": [
    "inner_join = comm_matches.join(ball_matches, on=\"_c0\", how=\"inner\")\n",
    "print(f\"INNER JOIN: {inner_join.count()} matches found in both datasets\")"
   ]
  },
  {
   "cell_type": "code",
   "execution_count": 0,
   "metadata": {
    "application/vnd.databricks.v1+cell": {
     "cellMetadata": {
      "byteLimit": 2048000,
      "rowLimit": 10000
     },
     "inputWidgets": {},
     "nuid": "c6df7129-7fae-442a-99c5-940e04ab0753",
     "showTitle": false,
     "tableResultSettingsMap": {},
     "title": ""
    }
   },
   "outputs": [
    {
     "output_type": "stream",
     "name": "stdout",
     "output_type": "stream",
     "text": [
      "LEFT JOIN: 14 commentary matches\n"
     ]
    }
   ],
   "source": [
    "left_join = comm_matches.join(ball_matches, on=\"_c0\", how=\"left\")\n",
    "print(f\"LEFT JOIN: {left_join.count()} commentary matches\")"
   ]
  },
  {
   "cell_type": "code",
   "execution_count": 0,
   "metadata": {
    "application/vnd.databricks.v1+cell": {
     "cellMetadata": {
      "byteLimit": 2048000,
      "rowLimit": 10000
     },
     "inputWidgets": {},
     "nuid": "9de31771-5f5e-4da6-9d8e-b3700e605e8b",
     "showTitle": false,
     "tableResultSettingsMap": {},
     "title": ""
    }
   },
   "outputs": [
    {
     "output_type": "stream",
     "name": "stdout",
     "output_type": "stream",
     "text": [
      "RIGHT JOIN: 10 over/ball matches\n"
     ]
    }
   ],
   "source": [
    "right_join = comm_matches.join(ball_matches, on=\"_c0\", how=\"right\")\n",
    "print(f\"RIGHT JOIN: {right_join.count()} over/ball matches\")"
   ]
  }
 ],
 "metadata": {
  "application/vnd.databricks.v1+notebook": {
   "computePreferences": null,
   "dashboards": [],
   "environmentMetadata": {
    "base_environment": "",
    "environment_version": "1"
   },
   "inputWidgetPreferences": null,
   "language": "python",
   "notebookMetadata": {
    "pythonIndentUnit": 4
   },
   "notebookName": "Untitled Notebook 2025-04-24 12:59:11",
   "widgets": {}
  }
 },
 "nbformat": 4,
 "nbformat_minor": 0
}