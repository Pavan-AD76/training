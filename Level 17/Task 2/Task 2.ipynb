{
 "cells": [
  {
   "cell_type": "code",
   "execution_count": 0,
   "metadata": {
    "application/vnd.databricks.v1+cell": {
     "cellMetadata": {
      "byteLimit": 2048000,
      "rowLimit": 10000
     },
     "inputWidgets": {},
     "nuid": "fb36cd56-bdfd-4a64-add4-62343eeee51f",
     "showTitle": false,
     "tableResultSettingsMap": {},
     "title": ""
    }
   },
   "outputs": [],
   "source": [
    "from pyspark.sql import SparkSession\n",
    "from pyspark.sql.functions import lit\n",
    "\n",
    "spark = SparkSession.builder.appName(\"SampleUnion\").getOrCreate()"
   ]
  },
  {
   "cell_type": "code",
   "execution_count": 0,
   "metadata": {
    "application/vnd.databricks.v1+cell": {
     "cellMetadata": {
      "byteLimit": 2048000,
      "rowLimit": 10000
     },
     "inputWidgets": {},
     "nuid": "5851585c-6e68-4f7d-89ac-621587b8f670",
     "showTitle": false,
     "tableResultSettingsMap": {},
     "title": ""
    }
   },
   "outputs": [],
   "source": [
    "commentary_data = [\n",
    "    (2024, 1001, \"B1\", 1, \"Beautiful cover drive!\"),\n",
    "    (2024, 1001, \"B2\", 1, \"Quick single taken.\"),\n",
    "    (2024, 1001, \"B3\", 1, \"That hit the pads!\"),\n",
    "]\n",
    "commentary_columns = [\"year\", \"match_id\", \"ball_id\", \"over_no\", \"ball_commentary\"]\n",
    "\n",
    "commentary_df = spark.createDataFrame(commentary_data, commentary_columns)"
   ]
  },
  {
   "cell_type": "code",
   "execution_count": 0,
   "metadata": {
    "application/vnd.databricks.v1+cell": {
     "cellMetadata": {
      "byteLimit": 2048000,
      "rowLimit": 10000
     },
     "inputWidgets": {},
     "nuid": "d1cb09c2-4f48-45f0-929d-13872f67f0e0",
     "showTitle": false,
     "tableResultSettingsMap": {},
     "title": ""
    }
   },
   "outputs": [],
   "source": [
    "over_data = [\n",
    "    (2024, 1001, \"B1\", 1, 6, \"Steady over, just 6 runs\", \"Player A\", \"Bowler X\"),\n",
    "    (2024, 1001, \"B2\", 2, 4, \"Good over, controlled\", \"Player A\", \"Bowler Y\"),\n",
    "]\n",
    "over_columns = [\"year\", \"match_id\", \"ball_id\", \"over_no\", \"over_total_runs\", \"over_summary\", \"over_batsman1_name\", \"over_bowler_name\"]\n",
    "\n",
    "over_df = spark.createDataFrame(over_data, over_columns)"
   ]
  },
  {
   "cell_type": "code",
   "execution_count": 0,
   "metadata": {
    "application/vnd.databricks.v1+cell": {
     "cellMetadata": {
      "byteLimit": 2048000,
      "rowLimit": 10000
     },
     "inputWidgets": {},
     "nuid": "b4b3d2c9-8f8d-4aba-bdf2-e6c12850b1c2",
     "showTitle": false,
     "tableResultSettingsMap": {},
     "title": ""
    }
   },
   "outputs": [],
   "source": [
    "commentary_prepared = commentary_df \\\n",
    "    .withColumnRenamed(\"ball_commentary\", \"comment\") \\\n",
    "    .withColumn(\"runs\", lit(None).cast(\"string\")) \\\n",
    "    .withColumn(\"wicket\", lit(None).cast(\"string\")) \\\n",
    "    .withColumn(\"match_date\", lit(None).cast(\"string\")) \\\n",
    "    .withColumn(\"match_time\", lit(None).cast(\"string\")) \\\n",
    "    .withColumn(\"source\", lit(\"commentary\")) \\\n",
    "    .select(\"match_id\", \"ball_id\", \"comment\", \"runs\", \"wicket\", \"match_date\", \"match_time\", \"source\")\n",
    "\n",
    "over_prepared = over_df \\\n",
    "    .withColumn(\"comment\", lit(None).cast(\"string\")) \\\n",
    "    .withColumn(\"runs\", lit(None).cast(\"string\")) \\\n",
    "    .withColumn(\"wicket\", lit(None).cast(\"string\")) \\\n",
    "    .withColumn(\"match_date\", lit(None).cast(\"string\")) \\\n",
    "    .withColumn(\"match_time\", lit(None).cast(\"string\")) \\\n",
    "    .withColumn(\"source\", lit(\"over\")) \\\n",
    "    .select(\"match_id\", \"ball_id\", \"comment\", \"runs\", \"wicket\", \"match_date\", \"match_time\", \"source\")"
   ]
  },
  {
   "cell_type": "code",
   "execution_count": 0,
   "metadata": {
    "application/vnd.databricks.v1+cell": {
     "cellMetadata": {
      "byteLimit": 2048000,
      "rowLimit": 10000
     },
     "inputWidgets": {},
     "nuid": "bcecd500-eb65-4f9b-8267-fb150470d88b",
     "showTitle": false,
     "tableResultSettingsMap": {},
     "title": ""
    }
   },
   "outputs": [
    {
     "output_type": "stream",
     "name": "stdout",
     "output_type": "stream",
     "text": [
      "+--------+-------+----------------------+----+------+----------+----------+----------+\n|match_id|ball_id|comment               |runs|wicket|match_date|match_time|source    |\n+--------+-------+----------------------+----+------+----------+----------+----------+\n|1001    |B1     |Beautiful cover drive!|null|null  |null      |null      |commentary|\n|1001    |B2     |Quick single taken.   |null|null  |null      |null      |commentary|\n|1001    |B3     |That hit the pads!    |null|null  |null      |null      |commentary|\n|1001    |B1     |null                  |null|null  |null      |null      |over      |\n|1001    |B2     |null                  |null|null  |null      |null      |over      |\n+--------+-------+----------------------+----+------+----------+----------+----------+\n\n"
     ]
    }
   ],
   "source": [
    "combined_df = commentary_prepared.unionByName(over_prepared)\n",
    "\n",
    "combined_df.show(truncate=False)"
   ]
  }
 ],
 "metadata": {
  "application/vnd.databricks.v1+notebook": {
   "computePreferences": null,
   "dashboards": [],
   "environmentMetadata": {
    "base_environment": "",
    "environment_version": "1"
   },
   "inputWidgetPreferences": null,
   "language": "python",
   "notebookMetadata": {
    "pythonIndentUnit": 4
   },
   "notebookName": "Task 2",
   "widgets": {}
  }
 },
 "nbformat": 4,
 "nbformat_minor": 0
}