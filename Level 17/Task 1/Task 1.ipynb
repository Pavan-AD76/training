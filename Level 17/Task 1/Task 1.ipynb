{
 "cells": [
  {
   "cell_type": "code",
   "execution_count": 0,
   "metadata": {
    "application/vnd.databricks.v1+cell": {
     "cellMetadata": {
      "byteLimit": 2048000,
      "rowLimit": 10000
     },
     "inputWidgets": {},
     "nuid": "9f2b81e0-25c9-43cb-b23d-42e16d2e992b",
     "showTitle": false,
     "tableResultSettingsMap": {},
     "title": ""
    }
   },
   "outputs": [
    {
     "output_type": "stream",
     "name": "stdout",
     "output_type": "stream",
     "text": [
      "+-------+-------------------+----------+----------+\n|ball_id|synthetic_timestamp|match_date|match_time|\n+-------+-------------------+----------+----------+\n|0      |2020-01-01 19:30:00|2020-01-01|19:30:00  |\n|1      |2020-01-01 19:30:30|2020-01-01|19:30:30  |\n|2      |2020-01-01 19:31:00|2020-01-01|19:31:00  |\n|3      |2020-01-01 19:31:30|2020-01-01|19:31:30  |\n|4      |2020-01-01 19:32:00|2020-01-01|19:32:00  |\n+-------+-------------------+----------+----------+\nonly showing top 5 rows\n\n"
     ]
    }
   ],
   "source": [
    "from pyspark.sql.functions import unix_timestamp, from_unixtime, col, monotonically_increasing_id\n",
    "import datetime\n",
    "from pyspark.sql.functions import lit\n",
    "\n",
    "df = spark.read.option(\"header\", True).csv(\"/FileStore/tables/ipl_commentary_data.csv\")\n",
    "\n",
    "df = df.withColumn(\"ball_id\", monotonically_increasing_id())\n",
    "\n",
    "match_start_time = \"2020-01-01 19:30:00\"\n",
    "\n",
    "df = df.withColumn(\n",
    "    \"synthetic_timestamp\",\n",
    "    from_unixtime(unix_timestamp(lit(match_start_time)) + col(\"ball_id\") * 30)\n",
    ")\n",
    "\n",
    "from pyspark.sql.functions import date_format\n",
    "\n",
    "df = df.withColumn(\"match_date\", date_format(\"synthetic_timestamp\", \"yyyy-MM-dd\")) \\\n",
    "                 .withColumn(\"match_time\", date_format(\"synthetic_timestamp\", \"HH:mm:ss\"))\n",
    "\n",
    "df.select(\"ball_id\", \"synthetic_timestamp\", \"match_date\", \"match_time\").show(5, truncate=False)"
   ]
  }
 ],
 "metadata": {
  "application/vnd.databricks.v1+notebook": {
   "computePreferences": null,
   "dashboards": [],
   "environmentMetadata": {
    "base_environment": "",
    "environment_version": "1"
   },
   "inputWidgetPreferences": null,
   "language": "python",
   "notebookMetadata": {
    "pythonIndentUnit": 4
   },
   "notebookName": "Task 1",
   "widgets": {}
  }
 },
 "nbformat": 4,
 "nbformat_minor": 0
}