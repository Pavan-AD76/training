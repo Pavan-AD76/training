{
 "cells": [
  {
   "cell_type": "code",
   "execution_count": 0,
   "metadata": {
    "application/vnd.databricks.v1+cell": {
     "cellMetadata": {
      "byteLimit": 2048000,
      "rowLimit": 10000
     },
     "inputWidgets": {},
     "nuid": "dc8f1746-a789-4524-afcf-218afddfbc09",
     "showTitle": false,
     "tableResultSettingsMap": {},
     "title": ""
    }
   },
   "outputs": [],
   "source": [
    "from pyspark.sql.functions import sum as Fsum\n",
    "\n",
    "df = spark.read.option(\"header\",True).csv(\"/FileStore/tables/ipl_over_data.csv\")\n",
    "\n",
    "team_scores = df.groupBy(\"series_name\", \"match_id\", \"team1_name\").agg(Fsum(\"team1_score\").alias(\"total_score\"))"
   ]
  },
  {
   "cell_type": "code",
   "execution_count": 0,
   "metadata": {
    "application/vnd.databricks.v1+cell": {
     "cellMetadata": {
      "byteLimit": 2048000,
      "rowLimit": 10000
     },
     "inputWidgets": {},
     "nuid": "03d10f0f-a392-427a-b651-7d5275b0b1b3",
     "showTitle": false,
     "tableResultSettingsMap": {},
     "title": ""
    }
   },
   "outputs": [
    {
     "output_type": "display_data",
     "data": {
      "text/html": [
       "<style scoped>\n",
       "  .table-result-container {\n",
       "    max-height: 300px;\n",
       "    overflow: auto;\n",
       "  }\n",
       "  table, th, td {\n",
       "    border: 1px solid black;\n",
       "    border-collapse: collapse;\n",
       "  }\n",
       "  th, td {\n",
       "    padding: 5px;\n",
       "  }\n",
       "  th {\n",
       "    text-align: left;\n",
       "  }\n",
       "</style><div class='table-result-container'><table class='table-result'><thead style='background-color: white'><tr><th>team1_name</th><th>Indian Premier League 2019</th><th>Indian Premier League 2020</th><th>Indian Premier League 2021</th><th>Indian Premier League 2022</th><th>Indian Premier League 2023</th><th>Indian Premier League 2024</th><th>Indian Premier League 2025</th><th>Indian Premier League, 2017</th><th>Indian Premier League, 2018</th></tr></thead><tbody><tr><td>2021-04-22 19:30:00+05:30</td><td>null</td><td>null</td><td>null</td><td>null</td><td>null</td><td>null</td><td>null</td><td>null</td><td>null</td></tr><tr><td>CSK</td><td>11664.0</td><td>5483.5</td><td>7024.3</td><td>6382.0</td><td>7779.333333333333</td><td>7316.75</td><td>null</td><td>null</td><td>7246.0</td></tr><tr><td>DC</td><td>6340.833333333333</td><td>6708.909090909091</td><td>5944.571428571428</td><td>7007.4</td><td>6468.8</td><td>8047.714285714285</td><td>null</td><td>5923.333333333333</td><td>6794.666666666667</td></tr><tr><td>GL</td><td>null</td><td>null</td><td>null</td><td>null</td><td>null</td><td>null</td><td>null</td><td>6381.0</td><td>null</td></tr><tr><td>GT</td><td>null</td><td>null</td><td>null</td><td>6194.571428571428</td><td>7710.875</td><td>6308.333333333333</td><td>null</td><td>null</td><td>null</td></tr><tr><td>KKR</td><td>6624.111111111111</td><td>6276.2</td><td>6964.0</td><td>6018.0</td><td>6532.285714285715</td><td>10740.0</td><td>6264.0</td><td>5677.5</td><td>7090.166666666667</td></tr><tr><td>LSG</td><td>null</td><td>null</td><td>null</td><td>6988.25</td><td>7370.666666666667</td><td>6772.875</td><td>8151.0</td><td>null</td><td>null</td></tr><tr><td>MI</td><td>6464.3</td><td>7263.888888888889</td><td>50482.5</td><td>6308.0</td><td>6670.833333333333</td><td>6728.2</td><td>6045.0</td><td>6196.0</td><td>7128.0</td></tr><tr><td>PBKS</td><td>7007.428571428572</td><td>6746.333333333333</td><td>5821.666666666667</td><td>6567.0</td><td>7508.777777777777</td><td>6620.25</td><td>9720.0</td><td>6396.75</td><td>5976.285714285715</td></tr><tr><td>RCB</td><td>6488.5</td><td>6278.0</td><td>5971.0</td><td>6634.555555555556</td><td>6779.888888888889</td><td>7444.555555555556</td><td>7840.0</td><td>5992.25</td><td>6955.666666666667</td></tr><tr><td>RPS</td><td>null</td><td>null</td><td>null</td><td>null</td><td>null</td><td>null</td><td>null</td><td>6269.625</td><td>null</td></tr><tr><td>RR</td><td>5987.6</td><td>6850.25</td><td>6160.5</td><td>6910.153846153846</td><td>7361.142857142857</td><td>6758.0</td><td>5587.0</td><td>null</td><td>7166.75</td></tr><tr><td>SRH</td><td>7075.75</td><td>6729.166666666667</td><td>5361.4</td><td>7005.0</td><td>6914.285714285715</td><td>7622.5</td><td>9140.0</td><td>6890.333333333333</td><td>6012.222222222223</td></tr></tbody></table></div>"
      ]
     },
     "metadata": {
      "application/vnd.databricks.v1+output": {
       "addedWidgets": {},
       "aggData": [],
       "aggError": "",
       "aggOverflow": false,
       "aggSchema": [],
       "aggSeriesLimitReached": false,
       "aggType": "",
       "arguments": {},
       "columnCustomDisplayInfos": {},
       "data": [
        [
         "2021-04-22 19:30:00+05:30",
         null,
         null,
         null,
         null,
         null,
         null,
         null,
         null,
         null
        ],
        [
         "CSK",
         11664.0,
         5483.5,
         7024.3,
         6382.0,
         7779.333333333333,
         7316.75,
         null,
         null,
         7246.0
        ],
        [
         "DC",
         6340.833333333333,
         6708.909090909091,
         5944.571428571428,
         7007.4,
         6468.8,
         8047.714285714285,
         null,
         5923.333333333333,
         6794.666666666667
        ],
        [
         "GL",
         null,
         null,
         null,
         null,
         null,
         null,
         null,
         6381.0,
         null
        ],
        [
         "GT",
         null,
         null,
         null,
         6194.571428571428,
         7710.875,
         6308.333333333333,
         null,
         null,
         null
        ],
        [
         "KKR",
         6624.111111111111,
         6276.2,
         6964.0,
         6018.0,
         6532.285714285715,
         10740.0,
         6264.0,
         5677.5,
         7090.166666666667
        ],
        [
         "LSG",
         null,
         null,
         null,
         6988.25,
         7370.666666666667,
         6772.875,
         8151.0,
         null,
         null
        ],
        [
         "MI",
         6464.3,
         7263.888888888889,
         50482.5,
         6308.0,
         6670.833333333333,
         6728.2,
         6045.0,
         6196.0,
         7128.0
        ],
        [
         "PBKS",
         7007.428571428572,
         6746.333333333333,
         5821.666666666667,
         6567.0,
         7508.777777777777,
         6620.25,
         9720.0,
         6396.75,
         5976.285714285715
        ],
        [
         "RCB",
         6488.5,
         6278.0,
         5971.0,
         6634.555555555556,
         6779.888888888889,
         7444.555555555556,
         7840.0,
         5992.25,
         6955.666666666667
        ],
        [
         "RPS",
         null,
         null,
         null,
         null,
         null,
         null,
         null,
         6269.625,
         null
        ],
        [
         "RR",
         5987.6,
         6850.25,
         6160.5,
         6910.153846153846,
         7361.142857142857,
         6758.0,
         5587.0,
         null,
         7166.75
        ],
        [
         "SRH",
         7075.75,
         6729.166666666667,
         5361.4,
         7005.0,
         6914.285714285715,
         7622.5,
         9140.0,
         6890.333333333333,
         6012.222222222223
        ]
       ],
       "datasetInfos": [],
       "dbfsResultPath": null,
       "isJsonSchema": true,
       "metadata": {},
       "overflow": false,
       "plotOptions": {
        "customPlotOptions": {},
        "displayType": "table",
        "pivotAggregation": null,
        "pivotColumns": null,
        "xColumns": null,
        "yColumns": null
       },
       "removedWidgets": [],
       "schema": [
        {
         "metadata": "{}",
         "name": "team1_name",
         "type": "\"string\""
        },
        {
         "metadata": "{}",
         "name": "Indian Premier League 2019",
         "type": "\"double\""
        },
        {
         "metadata": "{}",
         "name": "Indian Premier League 2020",
         "type": "\"double\""
        },
        {
         "metadata": "{}",
         "name": "Indian Premier League 2021",
         "type": "\"double\""
        },
        {
         "metadata": "{}",
         "name": "Indian Premier League 2022",
         "type": "\"double\""
        },
        {
         "metadata": "{}",
         "name": "Indian Premier League 2023",
         "type": "\"double\""
        },
        {
         "metadata": "{}",
         "name": "Indian Premier League 2024",
         "type": "\"double\""
        },
        {
         "metadata": "{}",
         "name": "Indian Premier League 2025",
         "type": "\"double\""
        },
        {
         "metadata": "{}",
         "name": "Indian Premier League, 2017",
         "type": "\"double\""
        },
        {
         "metadata": "{}",
         "name": "Indian Premier League, 2018",
         "type": "\"double\""
        }
       ],
       "type": "table"
      }
     },
     "output_type": "display_data"
    }
   ],
   "source": [
    "pivot_avg = team_scores.groupBy(\"team1_name\") \\\n",
    "    .pivot(\"series_name\") \\\n",
    "    .avg(\"total_score\") \\\n",
    "    .orderBy(\"team1_name\")\n",
    "\n",
    "pivot_avg.display()"
   ]
  },
  {
   "cell_type": "code",
   "execution_count": 0,
   "metadata": {
    "application/vnd.databricks.v1+cell": {
     "cellMetadata": {
      "byteLimit": 2048000,
      "rowLimit": 10000
     },
     "inputWidgets": {},
     "nuid": "4869ea05-9525-4aff-b23a-ce8c8691c1b9",
     "showTitle": false,
     "tableResultSettingsMap": {},
     "title": ""
    }
   },
   "outputs": [
    {
     "output_type": "display_data",
     "data": {
      "text/html": [
       "<style scoped>\n",
       "  .table-result-container {\n",
       "    max-height: 300px;\n",
       "    overflow: auto;\n",
       "  }\n",
       "  table, th, td {\n",
       "    border: 1px solid black;\n",
       "    border-collapse: collapse;\n",
       "  }\n",
       "  th, td {\n",
       "    padding: 5px;\n",
       "  }\n",
       "  th {\n",
       "    text-align: left;\n",
       "  }\n",
       "</style><div class='table-result-container'><table class='table-result'><thead style='background-color: white'><tr><th>team1_name</th><th>Indian Premier League 2019</th><th>Indian Premier League 2020</th><th>Indian Premier League 2021</th><th>Indian Premier League 2022</th><th>Indian Premier League 2023</th><th>Indian Premier League 2024</th><th>Indian Premier League 2025</th><th>Indian Premier League, 2017</th><th>Indian Premier League, 2018</th></tr></thead><tbody><tr><td>2021-04-22 19:30:00+05:30</td><td>null</td><td>null</td><td>null</td><td>null</td><td>null</td><td>null</td><td>null</td><td>null</td><td>null</td></tr><tr><td>CSK</td><td>40950.0</td><td>6981.0</td><td>8720.0</td><td>8640.0</td><td>9400.0</td><td>8240.0</td><td>null</td><td>null</td><td>8440.0</td></tr><tr><td>DC</td><td>8307.0</td><td>9120.0</td><td>6708.0</td><td>8385.0</td><td>8520.0</td><td>10280.0</td><td>null</td><td>7520.0</td><td>8760.0</td></tr><tr><td>GL</td><td>null</td><td>null</td><td>null</td><td>null</td><td>null</td><td>null</td><td>null</td><td>7696.0</td><td>null</td></tr><tr><td>GT</td><td>null</td><td>null</td><td>null</td><td>7680.0</td><td>9080.0</td><td>9240.0</td><td>null</td><td>null</td><td>null</td></tr><tr><td>KKR</td><td>9280.0</td><td>7760.0</td><td>10431.0</td><td>7080.0</td><td>8000.0</td><td>34632.0</td><td>6264.0</td><td>7106.0</td><td>9800.0</td></tr><tr><td>LSG</td><td>null</td><td>null</td><td>null</td><td>8400.0</td><td>10023.0</td><td>8560.0</td><td>8151.0</td><td>null</td><td>null</td></tr><tr><td>MI</td><td>7480.0</td><td>8320.0</td><td>361884.0</td><td>7080.0</td><td>8720.0</td><td>9360.0</td><td>6045.0</td><td>7176.0</td><td>8520.0</td></tr><tr><td>PBKS</td><td>7880.0</td><td>8697.0</td><td>8840.0</td><td>8360.0</td><td>11033.0</td><td>8346.0</td><td>9720.0</td><td>9200.0</td><td>7880.0</td></tr><tr><td>RCB</td><td>8520.0</td><td>8040.0</td><td>8160.0</td><td>8280.0</td><td>8480.0</td><td>8917.0</td><td>7840.0</td><td>8520.0</td><td>8720.0</td></tr><tr><td>RPS</td><td>null</td><td>null</td><td>null</td><td>null</td><td>null</td><td>null</td><td>null</td><td>6916.0</td><td>null</td></tr><tr><td>RR</td><td>7722.0</td><td>8640.0</td><td>8800.0</td><td>8880.0</td><td>8560.0</td><td>7840.0</td><td>5587.0</td><td>null</td><td>16188.0</td></tr><tr><td>SRH</td><td>9009.0</td><td>8541.0</td><td>6498.0</td><td>7800.0</td><td>9120.0</td><td>11480.0</td><td>11440.0</td><td>8360.0</td><td>6981.0</td></tr></tbody></table></div>"
      ]
     },
     "metadata": {
      "application/vnd.databricks.v1+output": {
       "addedWidgets": {},
       "aggData": [],
       "aggError": "",
       "aggOverflow": false,
       "aggSchema": [],
       "aggSeriesLimitReached": false,
       "aggType": "",
       "arguments": {},
       "columnCustomDisplayInfos": {},
       "data": [
        [
         "2021-04-22 19:30:00+05:30",
         null,
         null,
         null,
         null,
         null,
         null,
         null,
         null,
         null
        ],
        [
         "CSK",
         40950.0,
         6981.0,
         8720.0,
         8640.0,
         9400.0,
         8240.0,
         null,
         null,
         8440.0
        ],
        [
         "DC",
         8307.0,
         9120.0,
         6708.0,
         8385.0,
         8520.0,
         10280.0,
         null,
         7520.0,
         8760.0
        ],
        [
         "GL",
         null,
         null,
         null,
         null,
         null,
         null,
         null,
         7696.0,
         null
        ],
        [
         "GT",
         null,
         null,
         null,
         7680.0,
         9080.0,
         9240.0,
         null,
         null,
         null
        ],
        [
         "KKR",
         9280.0,
         7760.0,
         10431.0,
         7080.0,
         8000.0,
         34632.0,
         6264.0,
         7106.0,
         9800.0
        ],
        [
         "LSG",
         null,
         null,
         null,
         8400.0,
         10023.0,
         8560.0,
         8151.0,
         null,
         null
        ],
        [
         "MI",
         7480.0,
         8320.0,
         361884.0,
         7080.0,
         8720.0,
         9360.0,
         6045.0,
         7176.0,
         8520.0
        ],
        [
         "PBKS",
         7880.0,
         8697.0,
         8840.0,
         8360.0,
         11033.0,
         8346.0,
         9720.0,
         9200.0,
         7880.0
        ],
        [
         "RCB",
         8520.0,
         8040.0,
         8160.0,
         8280.0,
         8480.0,
         8917.0,
         7840.0,
         8520.0,
         8720.0
        ],
        [
         "RPS",
         null,
         null,
         null,
         null,
         null,
         null,
         null,
         6916.0,
         null
        ],
        [
         "RR",
         7722.0,
         8640.0,
         8800.0,
         8880.0,
         8560.0,
         7840.0,
         5587.0,
         null,
         16188.0
        ],
        [
         "SRH",
         9009.0,
         8541.0,
         6498.0,
         7800.0,
         9120.0,
         11480.0,
         11440.0,
         8360.0,
         6981.0
        ]
       ],
       "datasetInfos": [],
       "dbfsResultPath": null,
       "isJsonSchema": true,
       "metadata": {},
       "overflow": false,
       "plotOptions": {
        "customPlotOptions": {},
        "displayType": "table",
        "pivotAggregation": null,
        "pivotColumns": null,
        "xColumns": null,
        "yColumns": null
       },
       "removedWidgets": [],
       "schema": [
        {
         "metadata": "{}",
         "name": "team1_name",
         "type": "\"string\""
        },
        {
         "metadata": "{}",
         "name": "Indian Premier League 2019",
         "type": "\"double\""
        },
        {
         "metadata": "{}",
         "name": "Indian Premier League 2020",
         "type": "\"double\""
        },
        {
         "metadata": "{}",
         "name": "Indian Premier League 2021",
         "type": "\"double\""
        },
        {
         "metadata": "{}",
         "name": "Indian Premier League 2022",
         "type": "\"double\""
        },
        {
         "metadata": "{}",
         "name": "Indian Premier League 2023",
         "type": "\"double\""
        },
        {
         "metadata": "{}",
         "name": "Indian Premier League 2024",
         "type": "\"double\""
        },
        {
         "metadata": "{}",
         "name": "Indian Premier League 2025",
         "type": "\"double\""
        },
        {
         "metadata": "{}",
         "name": "Indian Premier League, 2017",
         "type": "\"double\""
        },
        {
         "metadata": "{}",
         "name": "Indian Premier League, 2018",
         "type": "\"double\""
        }
       ],
       "type": "table"
      }
     },
     "output_type": "display_data"
    }
   ],
   "source": [
    "pivot_max = team_scores.groupBy(\"team1_name\") \\\n",
    "    .pivot(\"series_name\") \\\n",
    "    .max(\"total_score\") \\\n",
    "    .orderBy(\"team1_name\")\n",
    "\n",
    "pivot_max.display()"
   ]
  }
 ],
 "metadata": {
  "application/vnd.databricks.v1+notebook": {
   "computePreferences": null,
   "dashboards": [],
   "environmentMetadata": {
    "base_environment": "",
    "environment_version": "1"
   },
   "inputWidgetPreferences": null,
   "language": "python",
   "notebookMetadata": {
    "pythonIndentUnit": 4
   },
   "notebookName": "Task_6",
   "widgets": {}
  }
 },
 "nbformat": 4,
 "nbformat_minor": 0
}