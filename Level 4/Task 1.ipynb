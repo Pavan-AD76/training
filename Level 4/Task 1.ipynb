{
 "cells": [
  {
   "cell_type": "markdown",
   "metadata": {},
   "source": [
    "# Task 1: House Price EDA"
   ]
  },
  {
   "cell_type": "code",
   "execution_count": 1,
   "metadata": {},
   "outputs": [
    {
     "name": "stdout",
     "output_type": "stream",
     "text": [
      "Summary Statistics:\n",
      "             ID          Price         Sqft  Bedrooms  Bathrooms    YearBuilt\n",
      "count  5.000000       5.000000     5.000000  5.000000    5.00000     5.000000\n",
      "mean   3.000000  420000.000000  2040.000000  3.600000    2.80000  2010.000000\n",
      "std    1.581139  144048.602909   610.737259  1.140175    0.83666     7.905694\n",
      "min    1.000000  250000.000000  1400.000000  2.000000    2.00000  2000.000000\n",
      "25%    2.000000  300000.000000  1500.000000  3.000000    2.00000  2005.000000\n",
      "50%    3.000000  450000.000000  2000.000000  4.000000    3.00000  2010.000000\n",
      "75%    4.000000  500000.000000  2500.000000  4.000000    3.00000  2015.000000\n",
      "max    5.000000  600000.000000  2800.000000  5.000000    4.00000  2020.000000\n"
     ]
    }
   ],
   "source": [
    "import pandas as pd\n",
    "\n",
    "def house_price_eda():\n",
    "    df = pd.read_csv(\"house_price.csv\")\n",
    "    print(\"Summary Statistics:\")\n",
    "    print(df.describe())\n",
    "\n",
    "if __name__ == \"__main__\":\n",
    "    house_price_eda()"
   ]
  }
 ],
 "metadata": {
  "kernelspec": {
   "display_name": "Python 3",
   "language": "python",
   "name": "python3"
  },
  "language_info": {
   "codemirror_mode": {
    "name": "ipython",
    "version": 3
   },
   "file_extension": ".py",
   "mimetype": "text/x-python",
   "name": "python",
   "nbconvert_exporter": "python",
   "pygments_lexer": "ipython3",
   "version": "3.12.4"
  }
 },
 "nbformat": 4,
 "nbformat_minor": 2
}
