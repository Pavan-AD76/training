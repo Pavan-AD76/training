{
 "cells": [
  {
   "cell_type": "markdown",
   "metadata": {},
   "source": [
    "# Task 2: Feature Engineering"
   ]
  },
  {
   "cell_type": "code",
   "execution_count": 1,
   "metadata": {},
   "outputs": [
    {
     "name": "stdout",
     "output_type": "stream",
     "text": [
      "Updated DataFrame with new feature:\n",
      "   ID   Price  Sqft  Bedrooms  Bathrooms  YearBuilt       Location  \\\n",
      "0   1  300000  1500         3          2       2005       New York   \n",
      "1   2  450000  2000         4          3       2010    Los Angeles   \n",
      "2   3  500000  2500         4          3       2015        Chicago   \n",
      "3   4  250000  1400         2          2       2000        Houston   \n",
      "4   5  600000  2800         5          4       2020  San Francisco   \n",
      "\n",
      "   price_per_sqft  \n",
      "0      200.000000  \n",
      "1      225.000000  \n",
      "2      200.000000  \n",
      "3      178.571429  \n",
      "4      214.285714  \n"
     ]
    }
   ],
   "source": [
    "import pandas as pd\n",
    "\n",
    "def feature_engineering():\n",
    "    df = pd.read_csv(\"house_price.csv\")\n",
    "    if 'Price' in df.columns and 'Sqft' in df.columns:\n",
    "        df['price_per_sqft'] = df['Price'] / df['Sqft']\n",
    "        print(\"Updated DataFrame with new feature:\")\n",
    "        print(df.head())\n",
    "    else:\n",
    "        print(\"Required columns not found in dataset\")\n",
    "\n",
    "if __name__ == \"__main__\":\n",
    "    feature_engineering()"
   ]
  }
 ],
 "metadata": {
  "kernelspec": {
   "display_name": "Python 3",
   "language": "python",
   "name": "python3"
  },
  "language_info": {
   "codemirror_mode": {
    "name": "ipython",
    "version": 3
   },
   "file_extension": ".py",
   "mimetype": "text/x-python",
   "name": "python",
   "nbconvert_exporter": "python",
   "pygments_lexer": "ipython3",
   "version": "3.12.4"
  }
 },
 "nbformat": 4,
 "nbformat_minor": 2
}
