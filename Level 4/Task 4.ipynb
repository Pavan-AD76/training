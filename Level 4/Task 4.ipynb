{
 "cells": [
  {
   "cell_type": "markdown",
   "metadata": {},
   "source": [
    "# Task 4: Logging Setup"
   ]
  },
  {
   "cell_type": "code",
   "execution_count": 1,
   "metadata": {},
   "outputs": [
    {
     "name": "stdout",
     "output_type": "stream",
     "text": [
      "Logging setup completed. Check app.log for messages.\n"
     ]
    }
   ],
   "source": [
    "import logging\n",
    "\n",
    "def setup_logging():\n",
    "    logging.basicConfig(filename=\"app.log\", level=logging.INFO, \n",
    "                        format='%(asctime)s - %(levelname)s - %(message)s')\n",
    "    logging.info(\"Script has started.\")\n",
    "    logging.info(\"A task has been completed.\")\n",
    "    print(\"Logging setup completed. Check app.log for messages.\")\n",
    "\n",
    "if __name__ == \"__main__\":\n",
    "    setup_logging()"
   ]
  }
 ],
 "metadata": {
  "kernelspec": {
   "display_name": "Python 3",
   "language": "python",
   "name": "python3"
  },
  "language_info": {
   "codemirror_mode": {
    "name": "ipython",
    "version": 3
   },
   "file_extension": ".py",
   "mimetype": "text/x-python",
   "name": "python",
   "nbconvert_exporter": "python",
   "pygments_lexer": "ipython3",
   "version": "3.12.4"
  }
 },
 "nbformat": 4,
 "nbformat_minor": 2
}
